{
 "cells": [
  {
   "cell_type": "markdown",
   "metadata": {},
   "source": [
    "# Problem Statement: Don't Overfit 2"
   ]
  },
  {
   "cell_type": "markdown",
   "metadata": {},
   "source": [
    "Giving a train data we need to correctly classiy our test data with maximum possible accuracy. The big challenge here is a very few set of data points which we have. Because of this problem our train data is able to generalize on test data set and it leading to overfitting. Hence, we need to overcome this challenge of overfitting and correctly classiy our test dataset.\n",
    "\n",
    "Here the biggest challenge is very less number of datapoints. We have train data set with 250 data points and 300 features. In the test dataset we have 19750 data points. Hence, even with this small dataset we should be able to capture the information from the training dataset that should be able to classify our test dataset.\n",
    "\n",
    "The features appear to be random. We will see their distribution in this case study before the modeling process. Let us try out with different models and see where we get the best results."
   ]
  },
  {
   "cell_type": "code",
   "execution_count": 1,
   "metadata": {},
   "outputs": [],
   "source": [
    "#importing libraries\n",
    "import numpy as np\n",
    "import pandas as pd\n",
    "from IPython.display import Image"
   ]
  },
  {
   "cell_type": "code",
   "execution_count": 2,
   "metadata": {},
   "outputs": [
    {
     "name": "stdout",
     "output_type": "stream",
     "text": [
      "   id  target      0      1      2      3      4      5      6      7  ...  \\\n",
      "0   0     1.0 -0.098  2.165  0.681 -0.614  1.309 -0.455 -0.236  0.276  ...   \n",
      "1   1     0.0  1.081 -0.973 -0.383  0.326 -0.428  0.317  1.172  0.352  ...   \n",
      "2   2     1.0 -0.523 -0.089 -0.348  0.148 -0.022  0.404 -0.023 -0.172  ...   \n",
      "3   3     1.0  0.067 -0.021  0.392 -1.637 -0.446 -0.725 -1.035  0.834  ...   \n",
      "4   4     1.0  2.347 -0.831  0.511 -0.021  1.225  1.594  0.585  1.509  ...   \n",
      "\n",
      "     290    291    292    293    294    295    296    297    298    299  \n",
      "0  0.867  1.347  0.504 -0.649  0.672 -2.097  1.051 -0.414  1.038 -1.065  \n",
      "1 -0.165 -1.695 -1.257  1.359 -0.808 -1.624 -0.458 -1.099 -0.936  0.973  \n",
      "2  0.013  0.263 -1.222  0.726  1.444 -1.165 -1.544  0.004  0.800 -1.211  \n",
      "3 -0.404  0.640 -0.595 -0.966  0.900  0.467 -0.562 -0.254 -0.533  0.238  \n",
      "4  0.898  0.134  2.415 -0.996 -1.006  1.378  1.246  1.478  0.428  0.253  \n",
      "\n",
      "[5 rows x 302 columns]\n",
      "(250, 302)\n"
     ]
    }
   ],
   "source": [
    "#importing our data\n",
    "train_data = pd.read_csv('train.csv')\n",
    "test_data=pd.read_csv('test.csv')\n",
    "\n",
    "print(train_data.head())\n",
    "print(train_data.shape)"
   ]
  },
  {
   "cell_type": "markdown",
   "metadata": {},
   "source": [
    "We can see that our train data has 302 columns including id and target. In all we we 300 features from 0 to 299. With the help f these features we need to predict the target of our test_dataset. So, before we move further let us drop ids from train and test data set also store the class labels separately."
   ]
  },
  {
   "cell_type": "code",
   "execution_count": 3,
   "metadata": {},
   "outputs": [],
   "source": [
    "X_train_df = (train_data.drop(['id','target'],axis = 1))\n",
    "X_test_df = (test_data.drop(['id'],axis = 1))\n",
    "\n",
    "y_train = np.array(train_data['target'])"
   ]
  },
  {
   "cell_type": "code",
   "execution_count": 4,
   "metadata": {},
   "outputs": [],
   "source": [
    "X_train=np.array(X_train_df)\n",
    "X_test=np.array(X_test_df)"
   ]
  },
  {
   "cell_type": "markdown",
   "metadata": {},
   "source": [
    "# EDA of our train dataset\n",
    "So now as we have got our train and test dataset, it is time to do EDA o our train data and see what all features we have got and how are they distributed"
   ]
  },
  {
   "cell_type": "code",
   "execution_count": 5,
   "metadata": {},
   "outputs": [
    {
     "data": {
      "text/html": [
       "<div>\n",
       "<style scoped>\n",
       "    .dataframe tbody tr th:only-of-type {\n",
       "        vertical-align: middle;\n",
       "    }\n",
       "\n",
       "    .dataframe tbody tr th {\n",
       "        vertical-align: top;\n",
       "    }\n",
       "\n",
       "    .dataframe thead th {\n",
       "        text-align: right;\n",
       "    }\n",
       "</style>\n",
       "<table border=\"1\" class=\"dataframe\">\n",
       "  <thead>\n",
       "    <tr style=\"text-align: right;\">\n",
       "      <th></th>\n",
       "      <th>0</th>\n",
       "      <th>1</th>\n",
       "      <th>2</th>\n",
       "      <th>3</th>\n",
       "      <th>4</th>\n",
       "      <th>5</th>\n",
       "      <th>6</th>\n",
       "      <th>7</th>\n",
       "      <th>8</th>\n",
       "      <th>9</th>\n",
       "      <th>...</th>\n",
       "      <th>290</th>\n",
       "      <th>291</th>\n",
       "      <th>292</th>\n",
       "      <th>293</th>\n",
       "      <th>294</th>\n",
       "      <th>295</th>\n",
       "      <th>296</th>\n",
       "      <th>297</th>\n",
       "      <th>298</th>\n",
       "      <th>299</th>\n",
       "    </tr>\n",
       "  </thead>\n",
       "  <tbody>\n",
       "    <tr>\n",
       "      <th>count</th>\n",
       "      <td>250.000000</td>\n",
       "      <td>250.000000</td>\n",
       "      <td>250.000000</td>\n",
       "      <td>250.000000</td>\n",
       "      <td>250.000000</td>\n",
       "      <td>250.000000</td>\n",
       "      <td>250.000000</td>\n",
       "      <td>250.000000</td>\n",
       "      <td>250.000000</td>\n",
       "      <td>250.000000</td>\n",
       "      <td>...</td>\n",
       "      <td>250.000000</td>\n",
       "      <td>250.000000</td>\n",
       "      <td>250.000000</td>\n",
       "      <td>250.000000</td>\n",
       "      <td>250.000000</td>\n",
       "      <td>250.000000</td>\n",
       "      <td>250.000000</td>\n",
       "      <td>250.000000</td>\n",
       "      <td>250.000000</td>\n",
       "      <td>250.000000</td>\n",
       "    </tr>\n",
       "    <tr>\n",
       "      <th>mean</th>\n",
       "      <td>0.023292</td>\n",
       "      <td>-0.026872</td>\n",
       "      <td>0.167404</td>\n",
       "      <td>0.001904</td>\n",
       "      <td>0.001588</td>\n",
       "      <td>-0.007304</td>\n",
       "      <td>0.032052</td>\n",
       "      <td>0.078412</td>\n",
       "      <td>-0.036920</td>\n",
       "      <td>0.035448</td>\n",
       "      <td>...</td>\n",
       "      <td>0.044652</td>\n",
       "      <td>0.126344</td>\n",
       "      <td>0.018436</td>\n",
       "      <td>-0.012092</td>\n",
       "      <td>-0.065720</td>\n",
       "      <td>-0.106112</td>\n",
       "      <td>0.046472</td>\n",
       "      <td>0.006452</td>\n",
       "      <td>0.009372</td>\n",
       "      <td>-0.128952</td>\n",
       "    </tr>\n",
       "    <tr>\n",
       "      <th>std</th>\n",
       "      <td>0.998354</td>\n",
       "      <td>1.009314</td>\n",
       "      <td>1.021709</td>\n",
       "      <td>1.011751</td>\n",
       "      <td>1.035411</td>\n",
       "      <td>0.955700</td>\n",
       "      <td>1.006657</td>\n",
       "      <td>0.939731</td>\n",
       "      <td>0.963688</td>\n",
       "      <td>1.019689</td>\n",
       "      <td>...</td>\n",
       "      <td>1.011416</td>\n",
       "      <td>0.972567</td>\n",
       "      <td>0.954229</td>\n",
       "      <td>0.960630</td>\n",
       "      <td>1.057414</td>\n",
       "      <td>1.038389</td>\n",
       "      <td>0.967661</td>\n",
       "      <td>0.998984</td>\n",
       "      <td>1.008099</td>\n",
       "      <td>0.971219</td>\n",
       "    </tr>\n",
       "    <tr>\n",
       "      <th>min</th>\n",
       "      <td>-2.319000</td>\n",
       "      <td>-2.931000</td>\n",
       "      <td>-2.477000</td>\n",
       "      <td>-2.359000</td>\n",
       "      <td>-2.566000</td>\n",
       "      <td>-2.845000</td>\n",
       "      <td>-2.976000</td>\n",
       "      <td>-3.444000</td>\n",
       "      <td>-2.768000</td>\n",
       "      <td>-2.361000</td>\n",
       "      <td>...</td>\n",
       "      <td>-2.804000</td>\n",
       "      <td>-2.443000</td>\n",
       "      <td>-2.757000</td>\n",
       "      <td>-2.466000</td>\n",
       "      <td>-3.287000</td>\n",
       "      <td>-3.072000</td>\n",
       "      <td>-2.634000</td>\n",
       "      <td>-2.776000</td>\n",
       "      <td>-3.211000</td>\n",
       "      <td>-3.500000</td>\n",
       "    </tr>\n",
       "    <tr>\n",
       "      <th>25%</th>\n",
       "      <td>-0.644750</td>\n",
       "      <td>-0.739750</td>\n",
       "      <td>-0.425250</td>\n",
       "      <td>-0.686500</td>\n",
       "      <td>-0.659000</td>\n",
       "      <td>-0.643750</td>\n",
       "      <td>-0.675000</td>\n",
       "      <td>-0.550750</td>\n",
       "      <td>-0.689500</td>\n",
       "      <td>-0.643500</td>\n",
       "      <td>...</td>\n",
       "      <td>-0.617000</td>\n",
       "      <td>-0.510500</td>\n",
       "      <td>-0.535750</td>\n",
       "      <td>-0.657000</td>\n",
       "      <td>-0.818500</td>\n",
       "      <td>-0.821000</td>\n",
       "      <td>-0.605500</td>\n",
       "      <td>-0.751250</td>\n",
       "      <td>-0.550000</td>\n",
       "      <td>-0.754250</td>\n",
       "    </tr>\n",
       "    <tr>\n",
       "      <th>50%</th>\n",
       "      <td>-0.015500</td>\n",
       "      <td>0.057000</td>\n",
       "      <td>0.184000</td>\n",
       "      <td>-0.016500</td>\n",
       "      <td>-0.023000</td>\n",
       "      <td>0.037500</td>\n",
       "      <td>0.060500</td>\n",
       "      <td>0.183500</td>\n",
       "      <td>-0.012500</td>\n",
       "      <td>0.052000</td>\n",
       "      <td>...</td>\n",
       "      <td>0.067500</td>\n",
       "      <td>0.091000</td>\n",
       "      <td>0.057500</td>\n",
       "      <td>-0.021000</td>\n",
       "      <td>-0.009000</td>\n",
       "      <td>-0.079500</td>\n",
       "      <td>0.009500</td>\n",
       "      <td>0.005500</td>\n",
       "      <td>-0.009000</td>\n",
       "      <td>-0.132500</td>\n",
       "    </tr>\n",
       "    <tr>\n",
       "      <th>75%</th>\n",
       "      <td>0.677000</td>\n",
       "      <td>0.620750</td>\n",
       "      <td>0.805000</td>\n",
       "      <td>0.720000</td>\n",
       "      <td>0.735000</td>\n",
       "      <td>0.660500</td>\n",
       "      <td>0.783250</td>\n",
       "      <td>0.766250</td>\n",
       "      <td>0.635000</td>\n",
       "      <td>0.733000</td>\n",
       "      <td>...</td>\n",
       "      <td>0.797250</td>\n",
       "      <td>0.804250</td>\n",
       "      <td>0.631500</td>\n",
       "      <td>0.650250</td>\n",
       "      <td>0.739500</td>\n",
       "      <td>0.493000</td>\n",
       "      <td>0.683000</td>\n",
       "      <td>0.794250</td>\n",
       "      <td>0.654250</td>\n",
       "      <td>0.503250</td>\n",
       "    </tr>\n",
       "    <tr>\n",
       "      <th>max</th>\n",
       "      <td>2.567000</td>\n",
       "      <td>2.419000</td>\n",
       "      <td>3.392000</td>\n",
       "      <td>2.771000</td>\n",
       "      <td>2.901000</td>\n",
       "      <td>2.793000</td>\n",
       "      <td>2.546000</td>\n",
       "      <td>2.846000</td>\n",
       "      <td>2.512000</td>\n",
       "      <td>2.959000</td>\n",
       "      <td>...</td>\n",
       "      <td>2.865000</td>\n",
       "      <td>2.801000</td>\n",
       "      <td>2.736000</td>\n",
       "      <td>2.596000</td>\n",
       "      <td>2.226000</td>\n",
       "      <td>3.131000</td>\n",
       "      <td>3.236000</td>\n",
       "      <td>2.626000</td>\n",
       "      <td>3.530000</td>\n",
       "      <td>2.771000</td>\n",
       "    </tr>\n",
       "  </tbody>\n",
       "</table>\n",
       "<p>8 rows × 300 columns</p>\n",
       "</div>"
      ],
      "text/plain": [
       "                0           1           2           3           4           5  \\\n",
       "count  250.000000  250.000000  250.000000  250.000000  250.000000  250.000000   \n",
       "mean     0.023292   -0.026872    0.167404    0.001904    0.001588   -0.007304   \n",
       "std      0.998354    1.009314    1.021709    1.011751    1.035411    0.955700   \n",
       "min     -2.319000   -2.931000   -2.477000   -2.359000   -2.566000   -2.845000   \n",
       "25%     -0.644750   -0.739750   -0.425250   -0.686500   -0.659000   -0.643750   \n",
       "50%     -0.015500    0.057000    0.184000   -0.016500   -0.023000    0.037500   \n",
       "75%      0.677000    0.620750    0.805000    0.720000    0.735000    0.660500   \n",
       "max      2.567000    2.419000    3.392000    2.771000    2.901000    2.793000   \n",
       "\n",
       "                6           7           8           9  ...         290  \\\n",
       "count  250.000000  250.000000  250.000000  250.000000  ...  250.000000   \n",
       "mean     0.032052    0.078412   -0.036920    0.035448  ...    0.044652   \n",
       "std      1.006657    0.939731    0.963688    1.019689  ...    1.011416   \n",
       "min     -2.976000   -3.444000   -2.768000   -2.361000  ...   -2.804000   \n",
       "25%     -0.675000   -0.550750   -0.689500   -0.643500  ...   -0.617000   \n",
       "50%      0.060500    0.183500   -0.012500    0.052000  ...    0.067500   \n",
       "75%      0.783250    0.766250    0.635000    0.733000  ...    0.797250   \n",
       "max      2.546000    2.846000    2.512000    2.959000  ...    2.865000   \n",
       "\n",
       "              291         292         293         294         295         296  \\\n",
       "count  250.000000  250.000000  250.000000  250.000000  250.000000  250.000000   \n",
       "mean     0.126344    0.018436   -0.012092   -0.065720   -0.106112    0.046472   \n",
       "std      0.972567    0.954229    0.960630    1.057414    1.038389    0.967661   \n",
       "min     -2.443000   -2.757000   -2.466000   -3.287000   -3.072000   -2.634000   \n",
       "25%     -0.510500   -0.535750   -0.657000   -0.818500   -0.821000   -0.605500   \n",
       "50%      0.091000    0.057500   -0.021000   -0.009000   -0.079500    0.009500   \n",
       "75%      0.804250    0.631500    0.650250    0.739500    0.493000    0.683000   \n",
       "max      2.801000    2.736000    2.596000    2.226000    3.131000    3.236000   \n",
       "\n",
       "              297         298         299  \n",
       "count  250.000000  250.000000  250.000000  \n",
       "mean     0.006452    0.009372   -0.128952  \n",
       "std      0.998984    1.008099    0.971219  \n",
       "min     -2.776000   -3.211000   -3.500000  \n",
       "25%     -0.751250   -0.550000   -0.754250  \n",
       "50%      0.005500   -0.009000   -0.132500  \n",
       "75%      0.794250    0.654250    0.503250  \n",
       "max      2.626000    3.530000    2.771000  \n",
       "\n",
       "[8 rows x 300 columns]"
      ]
     },
     "execution_count": 5,
     "metadata": {},
     "output_type": "execute_result"
    }
   ],
   "source": [
    "describe_train=X_train_df.describe()\n",
    "X_train_df.describe()"
   ]
  },
  {
   "cell_type": "markdown",
   "metadata": {},
   "source": [
    "As we can see our features have both negative and positive values. We will now see the mean, max and min value of the mean, max , mean rows of our features which will give us an idea of the range in which our features are scattered."
   ]
  },
  {
   "cell_type": "code",
   "execution_count": 6,
   "metadata": {},
   "outputs": [
    {
     "name": "stdout",
     "output_type": "stream",
     "text": [
      "minimum value is  : -4.27\n",
      "maximum value is  : 3.885\n",
      "mean value is  : -0.0006210666666666641\n"
     ]
    }
   ],
   "source": [
    "min_value=min(describe_train.loc['min'])\n",
    "max_value=max(describe_train.loc['max'])\n",
    "mean_value=np.mean(describe_train.loc['mean'])\n",
    "\n",
    "print('minimum value is  : '+str(min_value))\n",
    "print('maximum value is  : '+str(max_value))\n",
    "print('mean value is  : '+str(mean_value))"
   ]
  },
  {
   "cell_type": "markdown",
   "metadata": {},
   "source": [
    "The above result shows that the values of features lie between -4.27 to +3.885 and the mean roughly lies near zero. Hence, it might not be necessary to standardize our data. However if we don't get favourable results with our dataset we can go for it later on. Now, let us analyze the features of our dataset and see how are they representing our dataset."
   ]
  },
  {
   "cell_type": "markdown",
   "metadata": {},
   "source": [
    "# Check if Data is Balanced or Imbalanced"
   ]
  },
  {
   "cell_type": "code",
   "execution_count": 7,
   "metadata": {},
   "outputs": [
    {
     "data": {
      "text/plain": [
       "<matplotlib.axes._subplots.AxesSubplot at 0x1f572a8cf88>"
      ]
     },
     "execution_count": 7,
     "metadata": {},
     "output_type": "execute_result"
    },
    {
     "data": {
      "image/png": "[encoded data removed]",
      "text/plain": [
       "<Figure size 360x216 with 1 Axes>"
      ]
     },
     "metadata": {},
     "output_type": "display_data"
    }
   ],
   "source": [
    "import matplotlib.pyplot as plt\n",
    "\n",
    "train_data['target'].value_counts().plot(kind=\"pie\", figsize=(5,3), colormap=\"coolwarm\")"
   ]
  },
  {
   "cell_type": "code",
   "execution_count": 8,
   "metadata": {},
   "outputs": [
    {
     "data": {
      "text/plain": [
       "1.0    160\n",
       "0.0     90\n",
       "Name: target, dtype: int64"
      ]
     },
     "execution_count": 8,
     "metadata": {},
     "output_type": "execute_result"
    }
   ],
   "source": [
    "train_data['target'].value_counts()"
   ]
  },
  {
   "cell_type": "markdown",
   "metadata": {},
   "source": [
    "From the above plot and results we can see that our dataset is imbalaced, where the number of labels of class one are almost twice as the number of labels of class1. Hence, we need to be careful with the same"
   ]
  },
  {
   "cell_type": "code",
   "execution_count": 9,
   "metadata": {},
   "outputs": [
    {
     "data": {
      "text/plain": [
       "<matplotlib.axes._subplots.AxesSubplot at 0x1f5732fed48>"
      ]
     },
     "execution_count": 9,
     "metadata": {},
     "output_type": "execute_result"
    },
    {
     "data": {
      "image/png": "[encoded data removed]",
      "text/plain": [
       "<Figure size 360x216 with 1 Axes>"
      ]
     },
     "metadata": {
      "needs_background": "light"
     },
     "output_type": "display_data"
    }
   ],
   "source": [
    "train_data['target'].value_counts().plot(kind=\"bar\", figsize=(5,3), colormap=\"coolwarm\")"
   ]
  },
  {
   "cell_type": "markdown",
   "metadata": {},
   "source": [
    "Now let us do analysis of all the features and see their distribution. First we will plot histogram of all the features"
   ]
  },
  {
   "cell_type": "markdown",
   "metadata": {},
   "source": [
    "It might not be the best practice to see the distribution of all features espcially when number of features are large. But as we don't have much information about data like from whih domain the data belongs to it is better to do so. So, based on the above graphs let us try to identify the features which are best in comparison with other related to the way the divide the two classes:"
   ]
  },
  {
   "cell_type": "code",
   "execution_count": null,
   "metadata": {},
   "outputs": [],
   "source": [
    "import seaborn as sns\n",
    "\n",
    "sns.set_style('whitegrid');\n",
    "all_features = X_train_df.columns\n",
    "#code reference-->https://pythonbasics.org/seaborn_pairplot/\n",
    "for i in range(0,len(all_features),6):\n",
    "    sns.pairplot(train_data,hue ='target',vars= [all_features[i],all_features[i+1],all_features[i+2],all_features[i+3]\n",
    "                                                ,all_features[i+4],all_features[i+5]] ,size=4)\n",
    "    plt.show()"
   ]
  },
  {
   "cell_type": "markdown",
   "metadata": {},
   "source": [
    "'0','1','2','4','6','13','14','25','33','42','46','50','51','61','65','66','70','71','80','82','83','91','96','97','111','114','116','117','118','120','122','123','124','126','127','130','131','132','133','134','135','138','141','145','146','147','166','167','176','177','179','191','195','199','204','205','206','207','216','217','218','220','222','228','231','232','237','247','253','254','258','259','264','266','267','272','275','277','278','282','287','292','293','295','297','299'"
   ]
  },
  {
   "cell_type": "markdown",
   "metadata": {},
   "source": [
    "The above set of features are based on observations from the graph. We can't rely on them completely. But after looking at them we got a rough idea that no such feature exists that could alone distunguish between the two class labels. Most of the part is overlapped although there lie few points that will help in distinguishing between the class labels for some of the features as listed above."
   ]
  },
  {
   "cell_type": "markdown",
   "metadata": {},
   "source": [
    "So, moving forward let us have a look at other distributions and see how the features are spread across our dataset."
   ]
  },
  {
   "cell_type": "markdown",
   "metadata": {},
   "source": [
    "# Mean of all features"
   ]
  },
  {
   "cell_type": "code",
   "execution_count": 11,
   "metadata": {},
   "outputs": [
    {
     "data": {
      "text/plain": [
       "<matplotlib.axes._subplots.AxesSubplot at 0x1f5735bd548>"
      ]
     },
     "execution_count": 11,
     "metadata": {},
     "output_type": "execute_result"
    },
    {
     "data": {
      "image/png": "[encoded data removed]",
      "text/plain": [
       "<Figure size 360x216 with 1 Axes>"
      ]
     },
     "metadata": {
      "needs_background": "light"
     },
     "output_type": "display_data"
    }
   ],
   "source": [
    "describe_train.loc['mean'].plot(kind=\"hist\", figsize=(5,3), colormap=\"coolwarm\")"
   ]
  },
  {
   "cell_type": "markdown",
   "metadata": {},
   "source": [
    "From the above graph we can see that most of the poins have mean value in the range -0.05 to 0.05. Also all the mean values lie between range of -0.2 to 0.15. with a very few points on both the extremes. Seeing the curve we can say that the mean values kind of looks like normal distribution and all of them tend to be close to zero. "
   ]
  },
  {
   "cell_type": "markdown",
   "metadata": {},
   "source": [
    "# Minimum value Histogram"
   ]
  },
  {
   "cell_type": "code",
   "execution_count": 12,
   "metadata": {},
   "outputs": [
    {
     "data": {
      "text/plain": [
       "<matplotlib.axes._subplots.AxesSubplot at 0x1f57428c408>"
      ]
     },
     "execution_count": 12,
     "metadata": {},
     "output_type": "execute_result"
    },
    {
     "data": {
      "image/png": "[encoded data removed]",
      "text/plain": [
       "<Figure size 360x216 with 1 Axes>"
      ]
     },
     "metadata": {
      "needs_background": "light"
     },
     "output_type": "display_data"
    }
   ],
   "source": [
    "describe_train.loc['min'].plot(kind=\"hist\", figsize=(5,3), colormap=\"coolwarm\")"
   ]
  },
  {
   "cell_type": "markdown",
   "metadata": {},
   "source": [
    "From the above graph we can see that most of the poins have minimum value in the range -3.2 to -2.7. Also all the minimum values lie between range of -4.5 to -2 with a very few points on both the extremes. Seeing the curve we can say that the mean values kind of looks like normal distribution."
   ]
  },
  {
   "cell_type": "markdown",
   "metadata": {},
   "source": [
    "# Maximum Value Histogram"
   ]
  },
  {
   "cell_type": "code",
   "execution_count": 13,
   "metadata": {},
   "outputs": [
    {
     "data": {
      "text/plain": [
       "<matplotlib.axes._subplots.AxesSubplot at 0x1f574302888>"
      ]
     },
     "execution_count": 13,
     "metadata": {},
     "output_type": "execute_result"
    },
    {
     "data": {
      "image/png": "[encoded data removed]",
      "text/plain": [
       "<Figure size 360x216 with 1 Axes>"
      ]
     },
     "metadata": {
      "needs_background": "light"
     },
     "output_type": "display_data"
    }
   ],
   "source": [
    "describe_train.loc['max'].plot(kind=\"hist\", figsize=(5,3), colormap=\"coolwarm\")"
   ]
  },
  {
   "cell_type": "markdown",
   "metadata": {},
   "source": [
    "From the above graph we can see that most of the poins have maximum value in the range 2.5 to 3. Also all the maximum values lie between range of 2 to 4.5 with a very few points on both the extremes. Seeing the curve we can say that the maximum values kind of looks like normal distribution."
   ]
  },
  {
   "cell_type": "markdown",
   "metadata": {},
   "source": [
    "# 25th Percentile Histogram"
   ]
  },
  {
   "cell_type": "code",
   "execution_count": 14,
   "metadata": {},
   "outputs": [
    {
     "data": {
      "text/plain": [
       "<matplotlib.axes._subplots.AxesSubplot at 0x1f574382388>"
      ]
     },
     "execution_count": 14,
     "metadata": {},
     "output_type": "execute_result"
    },
    {
     "data": {
      "image/png": "[encoded data removed]",
      "text/plain": [
       "<Figure size 360x216 with 1 Axes>"
      ]
     },
     "metadata": {
      "needs_background": "light"
     },
     "output_type": "display_data"
    }
   ],
   "source": [
    "describe_train.loc['25%'].plot(kind=\"hist\", figsize=(5,3), colormap=\"coolwarm\")"
   ]
  },
  {
   "cell_type": "markdown",
   "metadata": {},
   "source": [
    "From the above graph we can see that most of the poins have 25 percentile value in the range -0.75 to -0.6. Also all the 25 percentile values lie between range of -0.9 to -0.5 with a very few points on both the extremes. Seeing the curve we can say that the maximum values kind of looks like normal distribution also for all the features the 25% values are negative."
   ]
  },
  {
   "cell_type": "markdown",
   "metadata": {},
   "source": [
    "# 75% Percentile Histogram"
   ]
  },
  {
   "cell_type": "code",
   "execution_count": 15,
   "metadata": {},
   "outputs": [
    {
     "data": {
      "text/plain": [
       "<matplotlib.axes._subplots.AxesSubplot at 0x1f57436ae08>"
      ]
     },
     "execution_count": 15,
     "metadata": {},
     "output_type": "execute_result"
    },
    {
     "data": {
      "image/png": "[encoded data removed]",
      "text/plain": [
       "<Figure size 360x216 with 1 Axes>"
      ]
     },
     "metadata": {
      "needs_background": "light"
     },
     "output_type": "display_data"
    }
   ],
   "source": [
    "describe_train.loc['75%'].plot(kind=\"hist\", figsize=(5,3), colormap=\"coolwarm\")"
   ]
  },
  {
   "cell_type": "markdown",
   "metadata": {},
   "source": [
    "From the above graph we can see that most of the poins have 75% value in the range  0.6 to 0.75. Also all the 75 percentile values lie between range of 0.4 to 0.9 with a very few points on both the extremes. Seeing the curve we can say that the 75% percentile values kind of looks like normal distribution. Also, all of them are positive."
   ]
  },
  {
   "cell_type": "markdown",
   "metadata": {},
   "source": [
    "# Standard Deviation"
   ]
  },
  {
   "cell_type": "code",
   "execution_count": 16,
   "metadata": {},
   "outputs": [
    {
     "data": {
      "text/plain": [
       "<matplotlib.axes._subplots.AxesSubplot at 0x1f5744757c8>"
      ]
     },
     "execution_count": 16,
     "metadata": {},
     "output_type": "execute_result"
    },
    {
     "data": {
      "image/png": "[encoded data removed]",
      "text/plain": [
       "<Figure size 360x216 with 1 Axes>"
      ]
     },
     "metadata": {
      "needs_background": "light"
     },
     "output_type": "display_data"
    }
   ],
   "source": [
    "describe_train.loc['std'].plot(kind=\"hist\", figsize=(5,3), colormap=\"coolwarm\")"
   ]
  },
  {
   "cell_type": "markdown",
   "metadata": {},
   "source": [
    "From all the above curves it is clear that the feature values tend to follow a normal distribution and are almost equally distrubuted both on the positive and negative side. So, let us start with training some models. We will first start with simple models and see how they perform on Kaggle. If the results are not promising with all the models we could later on try on with few selected features."
   ]
  },
  {
   "cell_type": "code",
   "execution_count": 17,
   "metadata": {},
   "outputs": [
    {
     "name": "stdout",
     "output_type": "stream",
     "text": [
      "86\n"
     ]
    }
   ],
   "source": [
    "selected_features_eda=['0','1','2','4','6','13','14','25','33','42','46','50','51','61','65','66','70',\n",
    "                       '71','80','82','83','91','96','97','111','114','116','117','118','120','122','123',\n",
    "                       '124','126','127','130','131','132','133','134','135','138','141','145','146','147','166',\n",
    "                       '167','176','177','179','191','195','199','204','205','206','207','216','217','218','220',\n",
    "                       '222','228','231','232','237','247','253','254','258','259','264','266','267','272','275',\n",
    "                       '277','278','282','287','292','293','295','297','299']\n",
    "X_train_f=np.array(X_train_df[selected_features_eda])\n",
    "X_test_f=np.array(X_test_df[selected_features_eda])\n",
    "print(len(selected_features_eda))\n",
    "\n"
   ]
  },
  {
   "cell_type": "code",
   "execution_count": 18,
   "metadata": {},
   "outputs": [],
   "source": [
    "submission = pd.read_csv('sample_submission.csv')\n"
   ]
  },
  {
   "cell_type": "markdown",
   "metadata": {},
   "source": [
    "# Building Models"
   ]
  },
  {
   "cell_type": "markdown",
   "metadata": {},
   "source": [
    "So, now as we have explored our data lets kick into the model building process. Let us first try with a simple model like logistic regresiion and see how it works for us. After that we can move on to different models. With so less training points we will follow corss validation process using Kfolds and then we can begin to our feature selection or oversampling or undersampling. Let us have a look at the Kfold processs"
   ]
  },
  {
   "cell_type": "markdown",
   "metadata": {},
   "source": [
    "# KNN: RepeatedStratified KFold"
   ]
  },
  {
   "cell_type": "code",
   "execution_count": 19,
   "metadata": {},
   "outputs": [
    {
     "name": "stdout",
     "output_type": "stream",
     "text": [
      "Fitting 25 folds for each of 15 candidates, totalling 375 fits\n"
     ]
    },
    {
     "name": "stderr",
     "output_type": "stream",
     "text": [
      "[Parallel(n_jobs=-1)]: Using backend LokyBackend with 8 concurrent workers.\n",
      "[Parallel(n_jobs=-1)]: Done  34 tasks      | elapsed:    2.1s\n"
     ]
    },
    {
     "name": "stdout",
     "output_type": "stream",
     "text": [
      "Best Score:0.6959375\n",
      "Best Parameters: {'n_neighbors': 80}\n"
     ]
    },
    {
     "name": "stderr",
     "output_type": "stream",
     "text": [
      "[Parallel(n_jobs=-1)]: Done 375 out of 375 | elapsed:    3.6s finished\n"
     ]
    }
   ],
   "source": [
    "from sklearn.model_selection import GridSearchCV, RepeatedStratifiedKFold\n",
    "from sklearn.neighbors import KNeighborsClassifier\n",
    "\n",
    "\n",
    "parameters = {'n_neighbors':[1,3,5,7,10,11,15,10,50,75,80,85,90,95,100]}\n",
    "rkf = RepeatedStratifiedKFold(n_splits=5, n_repeats=5, random_state=2652124)\n",
    "clf = KNeighborsClassifier()\n",
    "\n",
    "grid = GridSearchCV(estimator = clf, param_grid = parameters , scoring = 'roc_auc', verbose = 1, n_jobs = -1,cv=rkf)\n",
    "grid.fit(X_train,y_train)\n",
    "\n",
    "print(\"Best Score:\" + str(grid.best_score_))\n",
    "print(\"Best Parameters: \" + str(grid.best_params_))"
   ]
  },
  {
   "cell_type": "markdown",
   "metadata": {},
   "source": [
    "# KNN Repeated KFold"
   ]
  },
  {
   "cell_type": "code",
   "execution_count": 20,
   "metadata": {},
   "outputs": [
    {
     "name": "stderr",
     "output_type": "stream",
     "text": [
      "[Parallel(n_jobs=-1)]: Using backend LokyBackend with 8 concurrent workers.\n"
     ]
    },
    {
     "name": "stdout",
     "output_type": "stream",
     "text": [
      "Fitting 25 folds for each of 15 candidates, totalling 375 fits\n"
     ]
    },
    {
     "name": "stderr",
     "output_type": "stream",
     "text": [
      "[Parallel(n_jobs=-1)]: Done  56 tasks      | elapsed:    0.3s\n"
     ]
    },
    {
     "name": "stdout",
     "output_type": "stream",
     "text": [
      "Best Score:0.697289921444113\n",
      "Best Parameters: {'n_neighbors': 90}\n"
     ]
    },
    {
     "name": "stderr",
     "output_type": "stream",
     "text": [
      "[Parallel(n_jobs=-1)]: Done 375 out of 375 | elapsed:    1.4s finished\n"
     ]
    }
   ],
   "source": [
    "from sklearn.model_selection import GridSearchCV, RepeatedKFold\n",
    "from sklearn.neighbors import KNeighborsClassifier\n",
    "\n",
    "\n",
    "parameters = {'n_neighbors':[1,3,5,7,10,11,15,10,50,75,80,85,90,95,100]}\n",
    "rkf = RepeatedKFold(n_splits=5, n_repeats=5, random_state=2652124)\n",
    "clf = KNeighborsClassifier()\n",
    "\n",
    "grid = GridSearchCV(estimator = clf, param_grid = parameters , scoring = 'roc_auc', verbose = 1, n_jobs = -1,cv=rkf)\n",
    "grid.fit(X_train,y_train)\n",
    "\n",
    "print(\"Best Score:\" + str(grid.best_score_))\n",
    "print(\"Best Parameters: \" + str(grid.best_params_))"
   ]
  },
  {
   "cell_type": "markdown",
   "metadata": {},
   "source": [
    "# KNN Training with Best Hyperparameters"
   ]
  },
  {
   "cell_type": "code",
   "execution_count": 28,
   "metadata": {},
   "outputs": [],
   "source": [
    "from sklearn.metrics import roc_auc_score\n",
    "\n",
    "clf = KNeighborsClassifier(n_neighbors = 80)\n",
    "clf.fit(X_train,y_train)\n",
    "y_pred = clf.predict(X_train)\n",
    "train_auc_knn1=roc_auc_score(y_train,y_pred)\n",
    "submission['target'] = clf.predict_proba(X_test)[:,1]\n",
    "submission.to_csv('submission.csv', index=False)"
   ]
  },
  {
   "cell_type": "code",
   "execution_count": 73,
   "metadata": {},
   "outputs": [
    {
     "data": {
      "image/png": "[encoded data removed]",
      "text/plain": [
       "<IPython.core.display.Image object>"
      ]
     },
     "execution_count": 73,
     "metadata": {},
     "output_type": "execute_result"
    }
   ],
   "source": [
    "Image('subknn.png')"
   ]
  },
  {
   "cell_type": "code",
   "execution_count": 29,
   "metadata": {},
   "outputs": [],
   "source": [
    "test_auc_knn1=0.686"
   ]
  },
  {
   "cell_type": "markdown",
   "metadata": {},
   "source": [
    "KNN does not peform very well, lets see with logistic Regression"
   ]
  },
  {
   "cell_type": "markdown",
   "metadata": {},
   "source": [
    "# RepeatedStratified KFold"
   ]
  },
  {
   "cell_type": "code",
   "execution_count": 31,
   "metadata": {},
   "outputs": [
    {
     "name": "stdout",
     "output_type": "stream",
     "text": [
      "Fitting 50 folds for each of 20 candidates, totalling 1000 fits\n"
     ]
    },
    {
     "name": "stderr",
     "output_type": "stream",
     "text": [
      "[Parallel(n_jobs=-1)]: Using backend LokyBackend with 8 concurrent workers.\n",
      "[Parallel(n_jobs=-1)]: Done  56 tasks      | elapsed:    0.2s\n"
     ]
    },
    {
     "name": "stdout",
     "output_type": "stream",
     "text": [
      "Best Score:0.7888194444444444\n",
      "Best Parameters: {'C': 0.1, 'class_weight': 'balanced', 'penalty': 'l1', 'solver': 'liblinear'}\n"
     ]
    },
    {
     "name": "stderr",
     "output_type": "stream",
     "text": [
      "[Parallel(n_jobs=-1)]: Done 1000 out of 1000 | elapsed:    2.8s finished\n"
     ]
    }
   ],
   "source": [
    "from sklearn.model_selection import RepeatedStratifiedKFold\n",
    "from sklearn.linear_model import LogisticRegression\n",
    "\n",
    "parameters = {'penalty':['l1', 'l2'], 'C':[0.001,0.01,0.1,1,10],'solver':['liblinear'],'class_weight':['balanced',None]}\n",
    "\n",
    "logreg = LogisticRegression()\n",
    "\n",
    "rkf = RepeatedStratifiedKFold(n_repeats=10,random_state=42)\n",
    "\n",
    "grid = GridSearchCV(estimator = logreg, param_grid = parameters , scoring = 'roc_auc', verbose = 1, n_jobs = -1,cv=rkf)\n",
    "grid.fit(X_train,y_train)\n",
    "\n",
    "print(\"Best Score:\" + str(grid.best_score_))\n",
    "print(\"Best Parameters: \" + str(grid.best_params_))\n"
   ]
  },
  {
   "cell_type": "markdown",
   "metadata": {},
   "source": [
    "# RepeatedKFold"
   ]
  },
  {
   "cell_type": "code",
   "execution_count": 32,
   "metadata": {},
   "outputs": [
    {
     "name": "stdout",
     "output_type": "stream",
     "text": [
      "Fitting 50 folds for each of 20 candidates, totalling 1000 fits\n"
     ]
    },
    {
     "name": "stderr",
     "output_type": "stream",
     "text": [
      "[Parallel(n_jobs=-1)]: Using backend LokyBackend with 8 concurrent workers.\n",
      "[Parallel(n_jobs=-1)]: Done  56 tasks      | elapsed:    0.2s\n"
     ]
    },
    {
     "name": "stdout",
     "output_type": "stream",
     "text": [
      "Best Score:0.78571190642693\n",
      "Best Parameters: {'C': 0.1, 'class_weight': 'balanced', 'penalty': 'l1', 'solver': 'liblinear'}\n"
     ]
    },
    {
     "name": "stderr",
     "output_type": "stream",
     "text": [
      "[Parallel(n_jobs=-1)]: Done 960 tasks      | elapsed:    2.8s\n",
      "[Parallel(n_jobs=-1)]: Done 1000 out of 1000 | elapsed:    3.0s finished\n"
     ]
    }
   ],
   "source": [
    "from sklearn.model_selection import RepeatedKFold\n",
    "\n",
    "parameters = {'penalty':['l1', 'l2'], 'C':[0.001,0.01,0.1,1,10],'solver':['liblinear'],'class_weight':['balanced',None]}\n",
    "\n",
    "logreg = LogisticRegression()\n",
    "\n",
    "rkf = RepeatedKFold(n_repeats=10,random_state=42)\n",
    "\n",
    "grid = GridSearchCV(estimator = logreg, param_grid = parameters , scoring = 'roc_auc', verbose = 1, n_jobs = -1,cv=rkf)\n",
    "grid.fit(X_train,y_train)\n",
    "\n",
    "print(\"Best Score:\" + str(grid.best_score_))\n",
    "print(\"Best Parameters: \" + str(grid.best_params_))\n"
   ]
  },
  {
   "cell_type": "markdown",
   "metadata": {},
   "source": [
    "# Training with Best Hyperprameters"
   ]
  },
  {
   "cell_type": "code",
   "execution_count": 34,
   "metadata": {},
   "outputs": [],
   "source": [
    "logreg = LogisticRegression(C= 0.1, class_weight= 'balanced', penalty= 'l1', solver= 'liblinear')\n",
    "logreg.fit(X_train,y_train)\n",
    "y_pred = logreg.predict(X_train)\n",
    "train_auc_lr = roc_auc_score(y_train,y_pred)\n",
    "submission['target'] = logreg.predict_proba(X_test)[:,1]\n",
    "submission.to_csv('submission.csv', index=False)"
   ]
  },
  {
   "cell_type": "code",
   "execution_count": 77,
   "metadata": {},
   "outputs": [],
   "source": [
    "from IPython.display import Image"
   ]
  },
  {
   "cell_type": "code",
   "execution_count": 78,
   "metadata": {},
   "outputs": [
    {
     "data": {
      "image/png": "[encoded data removed]",
      "text/plain": [
       "<IPython.core.display.Image object>"
      ]
     },
     "execution_count": 78,
     "metadata": {},
     "output_type": "execute_result"
    }
   ],
   "source": [
    "Image('sub1.png')"
   ]
  },
  {
   "cell_type": "markdown",
   "metadata": {},
   "source": [
    "Kaggle Score = 0.844"
   ]
  },
  {
   "cell_type": "code",
   "execution_count": 35,
   "metadata": {},
   "outputs": [],
   "source": [
    "test_auc_lr = 0.844"
   ]
  },
  {
   "cell_type": "markdown",
   "metadata": {},
   "source": [
    "# Observations from above:"
   ]
  },
  {
   "cell_type": "markdown",
   "metadata": {},
   "source": [
    "Logistic Regression performs far better than KNN. Let us see the impact of each on feature selection"
   ]
  },
  {
   "cell_type": "code",
   "execution_count": 41,
   "metadata": {},
   "outputs": [],
   "source": [
    "from sklearn.feature_selection import RFE\n",
    "from sklearn.linear_model import LogisticRegression"
   ]
  },
  {
   "cell_type": "code",
   "execution_count": 42,
   "metadata": {},
   "outputs": [],
   "source": [
    "all_features=list(X_train_df.columns)"
   ]
  },
  {
   "cell_type": "markdown",
   "metadata": {},
   "source": [
    "# EDA Feature Selection:"
   ]
  },
  {
   "cell_type": "code",
   "execution_count": 43,
   "metadata": {},
   "outputs": [],
   "source": [
    "selected_features_eda=['0','1','2','4','6','13','14','25','33','42','46','50','51','61','65','66','70',\n",
    "                       '71','80','82','83','91','96','97','111','114','116','117','118','120','122','123',\n",
    "                       '124','126','127','130','131','132','133','134','135','138','141','145','146','147','166',\n",
    "                       '167','176','177','179','191','195','199','204','205','206','207','216','217','218','220',\n",
    "                       '222','228','231','232','237','247','253','254','258','259','264','266','267','272','275',\n",
    "                       '277','278','282','287','292','293','295','297','299']\n",
    "eda_support = [True if feature in selected_features_eda else False for feature in all_features]"
   ]
  },
  {
   "cell_type": "markdown",
   "metadata": {},
   "source": [
    "# Feature Selection Based on Pearson Correlation"
   ]
  },
  {
   "cell_type": "code",
   "execution_count": 44,
   "metadata": {},
   "outputs": [],
   "source": [
    "#https://towardsdatascience.com/the-5-feature-selection-algorithms-every-data-scientist-need-to-know-3a6b566efd2\n",
    "\n",
    "num_features=90\n",
    "\n",
    "def select_cor_feature(X,y,num_features):\n",
    "    all_features = list(X.columns)\n",
    "    cor_list=[]\n",
    "    \n",
    "    \n",
    "    for feature in all_features:\n",
    "        cor = np.corrcoef(X[feature], y)[0,1]\n",
    "        cor_list.append(cor)\n",
    "        \n",
    "    cor_list=[0 if np.isnan(i) else i for i in cor_list]\n",
    "    \n",
    "    \n",
    "    selected_features = X.iloc[:,np.argsort(np.abs(cor_list))[-num_features:]].columns.tolist()\n",
    "    pearson_support = [True if i in selected_features else False for i in all_features]\n",
    "    selected_features = list(map(str,sorted(list(map(int,selected_features)))))\n",
    "    \n",
    "    return (pearson_support,selected_features)\n",
    "    \n",
    "    "
   ]
  },
  {
   "cell_type": "code",
   "execution_count": 45,
   "metadata": {},
   "outputs": [
    {
     "name": "stdout",
     "output_type": "stream",
     "text": [
      "Features selected from pearson correlation are:\n",
      "['0', '4', '13', '15', '16', '17', '24', '26', '30', '33', '39', '43', '63', '65', '73', '80', '82', '89', '90', '91', '98', '101', '105', '108', '114', '117', '119', '127', '129', '133', '134', '143', '148', '150', '151', '156', '164', '165', '176', '180', '183', '189', '194', '199', '201', '209', '214', '217', '220', '221', '226', '227', '230', '237', '239', '240', '244', '252', '258', '272', '276', '289', '295', '298']\n"
     ]
    }
   ],
   "source": [
    "pearson_support,selected_features_corr=select_cor_feature(X_train_df,y_train,64)\n",
    "print('Features selected from pearson correlation are:')\n",
    "print(selected_features_corr)"
   ]
  },
  {
   "cell_type": "markdown",
   "metadata": {},
   "source": [
    "# RFE Feature Selection"
   ]
  },
  {
   "cell_type": "code",
   "execution_count": 46,
   "metadata": {},
   "outputs": [],
   "source": [
    "logreg= LogisticRegression()\n",
    "selector = RFE(logreg, 100, step=1)\n",
    "selector.fit(X_train,y_train)\n",
    "rfe_support = list(selector.support_)"
   ]
  },
  {
   "cell_type": "code",
   "execution_count": 47,
   "metadata": {},
   "outputs": [
    {
     "name": "stdout",
     "output_type": "stream",
     "text": [
      "Features selected by Recursve feature elimination:\n",
      "['1', '4', '8', '9', '11', '13', '14', '15', '16', '17', '18', '20', '24', '28', '30', '33', '41', '43', '45', '46', '51', '52', '65', '66', '69', '70', '73', '78', '80', '82', '84', '90', '91', '94', '97', '98', '100', '101', '108', '111', '114', '116', '117', '127', '129', '132', '133', '134', '143', '145', '148', '149', '150', '151', '156', '161', '164', '165', '168', '171', '174', '176', '180', '183', '189', '192', '194', '198', '199', '201', '202', '209', '215', '217', '226', '227', '229', '230', '239', '241', '244', '246', '247', '252', '257', '258', '259', '262', '266', '268', '271', '276', '283', '285', '289', '291', '292', '295', '298', '299']\n"
     ]
    }
   ],
   "source": [
    "selected_features_rfe=[]\n",
    "\n",
    "for i in range(len(rfe_support)):\n",
    "    if rfe_support[i]==True:\n",
    "        selected_features_rfe.append(all_features[i])\n",
    "\n",
    "print('Features selected by Recursve feature elimination:')\n",
    "print(selected_features_rfe)"
   ]
  },
  {
   "cell_type": "markdown",
   "metadata": {},
   "source": [
    "# Feature Selection with Chi-Sqared Method"
   ]
  },
  {
   "cell_type": "code",
   "execution_count": 48,
   "metadata": {},
   "outputs": [
    {
     "name": "stdout",
     "output_type": "stream",
     "text": [
      "The selected features via Chi-Squared Method are:\n",
      "['0', '1', '4', '9', '13', '15', '16', '17', '24', '26', '30', '33', '39', '43', '45', '46', '52', '62', '63', '65', '70', '73', '80', '82', '89', '90', '91', '94', '95', '98', '101', '104', '105', '107', '108', '114', '117', '119', '127', '129', '133', '134', '137', '143', '144', '148', '150', '151', '156', '163', '164', '165', '168', '176', '179', '180', '182', '183', '189', '193', '194', '198', '199', '201', '209', '214', '215', '217', '220', '226', '227', '228', '229', '230', '237', '239', '240', '241', '243', '244', '246', '251', '252', '253', '258', '262', '267', '268', '272', '276', '280', '281', '283', '285', '287', '288', '289', '292', '295', '298']\n",
      "100 selected features\n"
     ]
    }
   ],
   "source": [
    "from sklearn.feature_selection import SelectKBest\n",
    "from sklearn.feature_selection import chi2\n",
    "from sklearn.preprocessing import MinMaxScaler\n",
    "\n",
    "num_features = 100\n",
    "\n",
    "X_norm = MinMaxScaler().fit_transform(X_train_df)\n",
    "chi_selector = SelectKBest(chi2, k=num_features)\n",
    "chi_selector.fit(X_norm, y_train)\n",
    "chi_support = chi_selector.get_support()\n",
    "selected_features_chi = list(X_train_df.loc[:,chi_support].columns)\n",
    "\n",
    "print('The selected features via Chi-Squared Method are:')\n",
    "print(selected_features_chi)\n",
    "print(str(len(selected_features_chi)), 'selected features')\n"
   ]
  },
  {
   "cell_type": "markdown",
   "metadata": {},
   "source": [
    "# Feature Selection with Lasso:"
   ]
  },
  {
   "cell_type": "markdown",
   "metadata": {},
   "source": [
    "Lasso regression uses L1 regularization. With the help of L1 regularization sparsity is created which helped in removing unwanted features. We will use the same here to detect the best feature from out dataset."
   ]
  },
  {
   "cell_type": "code",
   "execution_count": 49,
   "metadata": {},
   "outputs": [
    {
     "name": "stdout",
     "output_type": "stream",
     "text": [
      "The selected features via Lasso Regression Method are:\n",
      "['1', '4', '9', '11', '13', '15', '16', '17', '18', '24', '30', '33', '39', '42', '43', '45', '46', '50', '51', '52', '63', '65', '67', '69', '72', '73', '78', '79', '80', '82', '89', '90', '91', '94', '95', '98', '100', '101', '108', '111', '114', '117', '127', '129', '130', '132', '133', '134', '143', '145', '147', '148', '149', '150', '156', '160', '165', '168', '171', '174', '176', '183', '189', '192', '194', '198', '199', '201', '206', '209', '211', '217', '221', '227', '229', '230', '237', '239', '244', '246', '247', '249', '257', '258', '259', '261', '262', '271', '272', '276', '279', '285', '288', '291', '292', '293', '294', '295', '298', '299']\n",
      "100 selected features\n"
     ]
    }
   ],
   "source": [
    "from sklearn.feature_selection import SelectFromModel\n",
    "\n",
    "num_features = 100\n",
    "\n",
    "lasso_selector = SelectFromModel(LogisticRegression(penalty='l1',solver='liblinear'),max_features = num_features)\n",
    "lasso_selector.fit(X_train,y_train)\n",
    "lasso_support = lasso_selector.get_support()\n",
    "selected_features_lasso = list(X_train_df.loc[:,lasso_support].columns)\n",
    "\n",
    "print('The selected features via Lasso Regression Method are:')\n",
    "print(selected_features_lasso)\n",
    "print(str(len(selected_features_lasso)), 'selected features')\n",
    "\n",
    "\n"
   ]
  },
  {
   "cell_type": "markdown",
   "metadata": {},
   "source": [
    "# Feature Selection Using Tree Method"
   ]
  },
  {
   "cell_type": "markdown",
   "metadata": {},
   "source": [
    "Without a fixed random state our extra tree classifer will give us a different set of features each time. So, let us take advatnage of this and run it for multiple iteratons. Then we will have most probablr features with us."
   ]
  },
  {
   "cell_type": "code",
   "execution_count": 50,
   "metadata": {},
   "outputs": [
    {
     "name": "stdout",
     "output_type": "stream",
     "text": [
      "['0', '1', '2', '3', '4', '5', '6', '7', '8', '11', '12', '13', '14', '15', '16', '17', '18', '19', '21', '23', '24', '25', '26', '27', '28', '29', '30', '32', '33', '34', '35', '36', '37', '38', '39', '40', '41', '42', '43', '44', '45', '46', '47', '49', '50', '51', '52', '53', '54', '55', '56', '57', '58', '59', '60', '61', '62', '63', '64', '65', '66', '67', '68', '69', '70', '71', '72', '73', '74', '75', '76', '77', '78', '79', '80', '81', '82', '83', '84', '85', '86', '87', '88', '89', '90', '91', '92', '93', '94', '95', '96', '97', '98', '99', '100', '101', '102', '103', '104', '105', '106', '107', '108', '109', '111', '112', '113', '114', '115', '116', '117', '118', '119', '120', '121', '122', '123', '124', '125', '126', '127', '128', '129', '130', '131', '132', '133', '134', '135', '136', '137', '139', '140', '141', '142', '143', '144', '145', '146', '147', '148', '149', '150', '151', '152', '154', '155', '156', '157', '158', '159', '160', '161', '162', '163', '164', '165', '166', '167', '168', '169', '170', '171', '172', '173', '174', '175', '176', '177', '178', '179', '180', '181', '182', '183', '184', '185', '186', '187', '188', '189', '190', '191', '192', '193', '194', '195', '196', '197', '198', '199', '200', '201', '202', '203', '204', '205', '207', '208', '209', '210', '211', '212', '213', '214', '215', '216', '217', '218', '219', '220', '221', '222', '223', '224', '225', '226', '228', '229', '230', '231', '232', '233', '234', '236', '238', '240', '241', '243', '244', '245', '246', '247', '248', '250', '251', '252', '253', '254', '258', '259', '260', '261', '262', '265', '267', '278', '284', '285', '286', '287', '288', '289', '290', '292']\n"
     ]
    }
   ],
   "source": [
    "from sklearn.ensemble import ExtraTreesClassifier\n",
    "\n",
    "selected_features_ext=[]\n",
    "for j in range(10):\n",
    "    clf = ExtraTreesClassifier()\n",
    "    clf.fit(X_train,y_train)\n",
    "    selected_features_tree=list(clf.feature_importances_)\n",
    "    for i in range(len(selected_features_eda)):\n",
    "        j =selected_features_tree.index(max(selected_features_tree))\n",
    "        selected_features_ext.append(all_features[j])\n",
    "        selected_features_tree.remove(selected_features_tree[j])\n",
    "        \n",
    "\n",
    "selected_features_ext=list(set(selected_features_ext))\n",
    "selected_features_ext=list(map(str,sorted(list(map(int,selected_features_ext)))))\n",
    "support_tree = [True if i in selected_features_ext else False for i in all_features]\n",
    "print(selected_features_ext)"
   ]
  },
  {
   "cell_type": "markdown",
   "metadata": {},
   "source": [
    "# Seeing Features Together from all 6 Methods"
   ]
  },
  {
   "cell_type": "code",
   "execution_count": 51,
   "metadata": {},
   "outputs": [
    {
     "name": "stdout",
     "output_type": "stream",
     "text": [
      "Displaying the top 50 features\n"
     ]
    },
    {
     "data": {
      "text/html": [
       "<div>\n",
       "<style scoped>\n",
       "    .dataframe tbody tr th:only-of-type {\n",
       "        vertical-align: middle;\n",
       "    }\n",
       "\n",
       "    .dataframe tbody tr th {\n",
       "        vertical-align: top;\n",
       "    }\n",
       "\n",
       "    .dataframe thead th {\n",
       "        text-align: right;\n",
       "    }\n",
       "</style>\n",
       "<table border=\"1\" class=\"dataframe\">\n",
       "  <thead>\n",
       "    <tr style=\"text-align: right;\">\n",
       "      <th></th>\n",
       "      <th>Feature</th>\n",
       "      <th>Pearson_Correlation</th>\n",
       "      <th>Chi-2</th>\n",
       "      <th>RFE</th>\n",
       "      <th>EDA</th>\n",
       "      <th>Tree_Method</th>\n",
       "      <th>Lasso</th>\n",
       "      <th>Total</th>\n",
       "    </tr>\n",
       "  </thead>\n",
       "  <tbody>\n",
       "    <tr>\n",
       "      <th>1</th>\n",
       "      <td>91</td>\n",
       "      <td>True</td>\n",
       "      <td>True</td>\n",
       "      <td>True</td>\n",
       "      <td>True</td>\n",
       "      <td>True</td>\n",
       "      <td>True</td>\n",
       "      <td>6</td>\n",
       "    </tr>\n",
       "    <tr>\n",
       "      <th>2</th>\n",
       "      <td>82</td>\n",
       "      <td>True</td>\n",
       "      <td>True</td>\n",
       "      <td>True</td>\n",
       "      <td>True</td>\n",
       "      <td>True</td>\n",
       "      <td>True</td>\n",
       "      <td>6</td>\n",
       "    </tr>\n",
       "    <tr>\n",
       "      <th>3</th>\n",
       "      <td>80</td>\n",
       "      <td>True</td>\n",
       "      <td>True</td>\n",
       "      <td>True</td>\n",
       "      <td>True</td>\n",
       "      <td>True</td>\n",
       "      <td>True</td>\n",
       "      <td>6</td>\n",
       "    </tr>\n",
       "    <tr>\n",
       "      <th>4</th>\n",
       "      <td>65</td>\n",
       "      <td>True</td>\n",
       "      <td>True</td>\n",
       "      <td>True</td>\n",
       "      <td>True</td>\n",
       "      <td>True</td>\n",
       "      <td>True</td>\n",
       "      <td>6</td>\n",
       "    </tr>\n",
       "    <tr>\n",
       "      <th>5</th>\n",
       "      <td>4</td>\n",
       "      <td>True</td>\n",
       "      <td>True</td>\n",
       "      <td>True</td>\n",
       "      <td>True</td>\n",
       "      <td>True</td>\n",
       "      <td>True</td>\n",
       "      <td>6</td>\n",
       "    </tr>\n",
       "    <tr>\n",
       "      <th>6</th>\n",
       "      <td>33</td>\n",
       "      <td>True</td>\n",
       "      <td>True</td>\n",
       "      <td>True</td>\n",
       "      <td>True</td>\n",
       "      <td>True</td>\n",
       "      <td>True</td>\n",
       "      <td>6</td>\n",
       "    </tr>\n",
       "    <tr>\n",
       "      <th>7</th>\n",
       "      <td>258</td>\n",
       "      <td>True</td>\n",
       "      <td>True</td>\n",
       "      <td>True</td>\n",
       "      <td>True</td>\n",
       "      <td>True</td>\n",
       "      <td>True</td>\n",
       "      <td>6</td>\n",
       "    </tr>\n",
       "    <tr>\n",
       "      <th>8</th>\n",
       "      <td>217</td>\n",
       "      <td>True</td>\n",
       "      <td>True</td>\n",
       "      <td>True</td>\n",
       "      <td>True</td>\n",
       "      <td>True</td>\n",
       "      <td>True</td>\n",
       "      <td>6</td>\n",
       "    </tr>\n",
       "    <tr>\n",
       "      <th>9</th>\n",
       "      <td>199</td>\n",
       "      <td>True</td>\n",
       "      <td>True</td>\n",
       "      <td>True</td>\n",
       "      <td>True</td>\n",
       "      <td>True</td>\n",
       "      <td>True</td>\n",
       "      <td>6</td>\n",
       "    </tr>\n",
       "    <tr>\n",
       "      <th>10</th>\n",
       "      <td>176</td>\n",
       "      <td>True</td>\n",
       "      <td>True</td>\n",
       "      <td>True</td>\n",
       "      <td>True</td>\n",
       "      <td>True</td>\n",
       "      <td>True</td>\n",
       "      <td>6</td>\n",
       "    </tr>\n",
       "    <tr>\n",
       "      <th>11</th>\n",
       "      <td>134</td>\n",
       "      <td>True</td>\n",
       "      <td>True</td>\n",
       "      <td>True</td>\n",
       "      <td>True</td>\n",
       "      <td>True</td>\n",
       "      <td>True</td>\n",
       "      <td>6</td>\n",
       "    </tr>\n",
       "    <tr>\n",
       "      <th>12</th>\n",
       "      <td>133</td>\n",
       "      <td>True</td>\n",
       "      <td>True</td>\n",
       "      <td>True</td>\n",
       "      <td>True</td>\n",
       "      <td>True</td>\n",
       "      <td>True</td>\n",
       "      <td>6</td>\n",
       "    </tr>\n",
       "    <tr>\n",
       "      <th>13</th>\n",
       "      <td>13</td>\n",
       "      <td>True</td>\n",
       "      <td>True</td>\n",
       "      <td>True</td>\n",
       "      <td>True</td>\n",
       "      <td>True</td>\n",
       "      <td>True</td>\n",
       "      <td>6</td>\n",
       "    </tr>\n",
       "    <tr>\n",
       "      <th>14</th>\n",
       "      <td>127</td>\n",
       "      <td>True</td>\n",
       "      <td>True</td>\n",
       "      <td>True</td>\n",
       "      <td>True</td>\n",
       "      <td>True</td>\n",
       "      <td>True</td>\n",
       "      <td>6</td>\n",
       "    </tr>\n",
       "    <tr>\n",
       "      <th>15</th>\n",
       "      <td>117</td>\n",
       "      <td>True</td>\n",
       "      <td>True</td>\n",
       "      <td>True</td>\n",
       "      <td>True</td>\n",
       "      <td>True</td>\n",
       "      <td>True</td>\n",
       "      <td>6</td>\n",
       "    </tr>\n",
       "    <tr>\n",
       "      <th>16</th>\n",
       "      <td>114</td>\n",
       "      <td>True</td>\n",
       "      <td>True</td>\n",
       "      <td>True</td>\n",
       "      <td>True</td>\n",
       "      <td>True</td>\n",
       "      <td>True</td>\n",
       "      <td>6</td>\n",
       "    </tr>\n",
       "    <tr>\n",
       "      <th>17</th>\n",
       "      <td>98</td>\n",
       "      <td>True</td>\n",
       "      <td>True</td>\n",
       "      <td>True</td>\n",
       "      <td>False</td>\n",
       "      <td>True</td>\n",
       "      <td>True</td>\n",
       "      <td>5</td>\n",
       "    </tr>\n",
       "    <tr>\n",
       "      <th>18</th>\n",
       "      <td>90</td>\n",
       "      <td>True</td>\n",
       "      <td>True</td>\n",
       "      <td>True</td>\n",
       "      <td>False</td>\n",
       "      <td>True</td>\n",
       "      <td>True</td>\n",
       "      <td>5</td>\n",
       "    </tr>\n",
       "    <tr>\n",
       "      <th>19</th>\n",
       "      <td>73</td>\n",
       "      <td>True</td>\n",
       "      <td>True</td>\n",
       "      <td>True</td>\n",
       "      <td>False</td>\n",
       "      <td>True</td>\n",
       "      <td>True</td>\n",
       "      <td>5</td>\n",
       "    </tr>\n",
       "    <tr>\n",
       "      <th>20</th>\n",
       "      <td>46</td>\n",
       "      <td>False</td>\n",
       "      <td>True</td>\n",
       "      <td>True</td>\n",
       "      <td>True</td>\n",
       "      <td>True</td>\n",
       "      <td>True</td>\n",
       "      <td>5</td>\n",
       "    </tr>\n",
       "    <tr>\n",
       "      <th>21</th>\n",
       "      <td>43</td>\n",
       "      <td>True</td>\n",
       "      <td>True</td>\n",
       "      <td>True</td>\n",
       "      <td>False</td>\n",
       "      <td>True</td>\n",
       "      <td>True</td>\n",
       "      <td>5</td>\n",
       "    </tr>\n",
       "    <tr>\n",
       "      <th>22</th>\n",
       "      <td>30</td>\n",
       "      <td>True</td>\n",
       "      <td>True</td>\n",
       "      <td>True</td>\n",
       "      <td>False</td>\n",
       "      <td>True</td>\n",
       "      <td>True</td>\n",
       "      <td>5</td>\n",
       "    </tr>\n",
       "    <tr>\n",
       "      <th>23</th>\n",
       "      <td>295</td>\n",
       "      <td>True</td>\n",
       "      <td>True</td>\n",
       "      <td>True</td>\n",
       "      <td>True</td>\n",
       "      <td>False</td>\n",
       "      <td>True</td>\n",
       "      <td>5</td>\n",
       "    </tr>\n",
       "    <tr>\n",
       "      <th>24</th>\n",
       "      <td>292</td>\n",
       "      <td>False</td>\n",
       "      <td>True</td>\n",
       "      <td>True</td>\n",
       "      <td>True</td>\n",
       "      <td>True</td>\n",
       "      <td>True</td>\n",
       "      <td>5</td>\n",
       "    </tr>\n",
       "    <tr>\n",
       "      <th>25</th>\n",
       "      <td>244</td>\n",
       "      <td>True</td>\n",
       "      <td>True</td>\n",
       "      <td>True</td>\n",
       "      <td>False</td>\n",
       "      <td>True</td>\n",
       "      <td>True</td>\n",
       "      <td>5</td>\n",
       "    </tr>\n",
       "    <tr>\n",
       "      <th>26</th>\n",
       "      <td>24</td>\n",
       "      <td>True</td>\n",
       "      <td>True</td>\n",
       "      <td>True</td>\n",
       "      <td>False</td>\n",
       "      <td>True</td>\n",
       "      <td>True</td>\n",
       "      <td>5</td>\n",
       "    </tr>\n",
       "    <tr>\n",
       "      <th>27</th>\n",
       "      <td>230</td>\n",
       "      <td>True</td>\n",
       "      <td>True</td>\n",
       "      <td>True</td>\n",
       "      <td>False</td>\n",
       "      <td>True</td>\n",
       "      <td>True</td>\n",
       "      <td>5</td>\n",
       "    </tr>\n",
       "    <tr>\n",
       "      <th>28</th>\n",
       "      <td>209</td>\n",
       "      <td>True</td>\n",
       "      <td>True</td>\n",
       "      <td>True</td>\n",
       "      <td>False</td>\n",
       "      <td>True</td>\n",
       "      <td>True</td>\n",
       "      <td>5</td>\n",
       "    </tr>\n",
       "    <tr>\n",
       "      <th>29</th>\n",
       "      <td>201</td>\n",
       "      <td>True</td>\n",
       "      <td>True</td>\n",
       "      <td>True</td>\n",
       "      <td>False</td>\n",
       "      <td>True</td>\n",
       "      <td>True</td>\n",
       "      <td>5</td>\n",
       "    </tr>\n",
       "    <tr>\n",
       "      <th>30</th>\n",
       "      <td>194</td>\n",
       "      <td>True</td>\n",
       "      <td>True</td>\n",
       "      <td>True</td>\n",
       "      <td>False</td>\n",
       "      <td>True</td>\n",
       "      <td>True</td>\n",
       "      <td>5</td>\n",
       "    </tr>\n",
       "    <tr>\n",
       "      <th>31</th>\n",
       "      <td>189</td>\n",
       "      <td>True</td>\n",
       "      <td>True</td>\n",
       "      <td>True</td>\n",
       "      <td>False</td>\n",
       "      <td>True</td>\n",
       "      <td>True</td>\n",
       "      <td>5</td>\n",
       "    </tr>\n",
       "    <tr>\n",
       "      <th>32</th>\n",
       "      <td>183</td>\n",
       "      <td>True</td>\n",
       "      <td>True</td>\n",
       "      <td>True</td>\n",
       "      <td>False</td>\n",
       "      <td>True</td>\n",
       "      <td>True</td>\n",
       "      <td>5</td>\n",
       "    </tr>\n",
       "    <tr>\n",
       "      <th>33</th>\n",
       "      <td>17</td>\n",
       "      <td>True</td>\n",
       "      <td>True</td>\n",
       "      <td>True</td>\n",
       "      <td>False</td>\n",
       "      <td>True</td>\n",
       "      <td>True</td>\n",
       "      <td>5</td>\n",
       "    </tr>\n",
       "    <tr>\n",
       "      <th>34</th>\n",
       "      <td>165</td>\n",
       "      <td>True</td>\n",
       "      <td>True</td>\n",
       "      <td>True</td>\n",
       "      <td>False</td>\n",
       "      <td>True</td>\n",
       "      <td>True</td>\n",
       "      <td>5</td>\n",
       "    </tr>\n",
       "    <tr>\n",
       "      <th>35</th>\n",
       "      <td>16</td>\n",
       "      <td>True</td>\n",
       "      <td>True</td>\n",
       "      <td>True</td>\n",
       "      <td>False</td>\n",
       "      <td>True</td>\n",
       "      <td>True</td>\n",
       "      <td>5</td>\n",
       "    </tr>\n",
       "    <tr>\n",
       "      <th>36</th>\n",
       "      <td>156</td>\n",
       "      <td>True</td>\n",
       "      <td>True</td>\n",
       "      <td>True</td>\n",
       "      <td>False</td>\n",
       "      <td>True</td>\n",
       "      <td>True</td>\n",
       "      <td>5</td>\n",
       "    </tr>\n",
       "    <tr>\n",
       "      <th>37</th>\n",
       "      <td>150</td>\n",
       "      <td>True</td>\n",
       "      <td>True</td>\n",
       "      <td>True</td>\n",
       "      <td>False</td>\n",
       "      <td>True</td>\n",
       "      <td>True</td>\n",
       "      <td>5</td>\n",
       "    </tr>\n",
       "    <tr>\n",
       "      <th>38</th>\n",
       "      <td>15</td>\n",
       "      <td>True</td>\n",
       "      <td>True</td>\n",
       "      <td>True</td>\n",
       "      <td>False</td>\n",
       "      <td>True</td>\n",
       "      <td>True</td>\n",
       "      <td>5</td>\n",
       "    </tr>\n",
       "    <tr>\n",
       "      <th>39</th>\n",
       "      <td>148</td>\n",
       "      <td>True</td>\n",
       "      <td>True</td>\n",
       "      <td>True</td>\n",
       "      <td>False</td>\n",
       "      <td>True</td>\n",
       "      <td>True</td>\n",
       "      <td>5</td>\n",
       "    </tr>\n",
       "    <tr>\n",
       "      <th>40</th>\n",
       "      <td>143</td>\n",
       "      <td>True</td>\n",
       "      <td>True</td>\n",
       "      <td>True</td>\n",
       "      <td>False</td>\n",
       "      <td>True</td>\n",
       "      <td>True</td>\n",
       "      <td>5</td>\n",
       "    </tr>\n",
       "    <tr>\n",
       "      <th>41</th>\n",
       "      <td>129</td>\n",
       "      <td>True</td>\n",
       "      <td>True</td>\n",
       "      <td>True</td>\n",
       "      <td>False</td>\n",
       "      <td>True</td>\n",
       "      <td>True</td>\n",
       "      <td>5</td>\n",
       "    </tr>\n",
       "    <tr>\n",
       "      <th>42</th>\n",
       "      <td>108</td>\n",
       "      <td>True</td>\n",
       "      <td>True</td>\n",
       "      <td>True</td>\n",
       "      <td>False</td>\n",
       "      <td>True</td>\n",
       "      <td>True</td>\n",
       "      <td>5</td>\n",
       "    </tr>\n",
       "    <tr>\n",
       "      <th>43</th>\n",
       "      <td>101</td>\n",
       "      <td>True</td>\n",
       "      <td>True</td>\n",
       "      <td>True</td>\n",
       "      <td>False</td>\n",
       "      <td>True</td>\n",
       "      <td>True</td>\n",
       "      <td>5</td>\n",
       "    </tr>\n",
       "    <tr>\n",
       "      <th>44</th>\n",
       "      <td>1</td>\n",
       "      <td>False</td>\n",
       "      <td>True</td>\n",
       "      <td>True</td>\n",
       "      <td>True</td>\n",
       "      <td>True</td>\n",
       "      <td>True</td>\n",
       "      <td>5</td>\n",
       "    </tr>\n",
       "    <tr>\n",
       "      <th>45</th>\n",
       "      <td>94</td>\n",
       "      <td>False</td>\n",
       "      <td>True</td>\n",
       "      <td>True</td>\n",
       "      <td>False</td>\n",
       "      <td>True</td>\n",
       "      <td>True</td>\n",
       "      <td>4</td>\n",
       "    </tr>\n",
       "    <tr>\n",
       "      <th>46</th>\n",
       "      <td>89</td>\n",
       "      <td>True</td>\n",
       "      <td>True</td>\n",
       "      <td>False</td>\n",
       "      <td>False</td>\n",
       "      <td>True</td>\n",
       "      <td>True</td>\n",
       "      <td>4</td>\n",
       "    </tr>\n",
       "    <tr>\n",
       "      <th>47</th>\n",
       "      <td>70</td>\n",
       "      <td>False</td>\n",
       "      <td>True</td>\n",
       "      <td>True</td>\n",
       "      <td>True</td>\n",
       "      <td>True</td>\n",
       "      <td>False</td>\n",
       "      <td>4</td>\n",
       "    </tr>\n",
       "    <tr>\n",
       "      <th>48</th>\n",
       "      <td>63</td>\n",
       "      <td>True</td>\n",
       "      <td>True</td>\n",
       "      <td>False</td>\n",
       "      <td>False</td>\n",
       "      <td>True</td>\n",
       "      <td>True</td>\n",
       "      <td>4</td>\n",
       "    </tr>\n",
       "    <tr>\n",
       "      <th>49</th>\n",
       "      <td>52</td>\n",
       "      <td>False</td>\n",
       "      <td>True</td>\n",
       "      <td>True</td>\n",
       "      <td>False</td>\n",
       "      <td>True</td>\n",
       "      <td>True</td>\n",
       "      <td>4</td>\n",
       "    </tr>\n",
       "    <tr>\n",
       "      <th>50</th>\n",
       "      <td>51</td>\n",
       "      <td>False</td>\n",
       "      <td>False</td>\n",
       "      <td>True</td>\n",
       "      <td>True</td>\n",
       "      <td>True</td>\n",
       "      <td>True</td>\n",
       "      <td>4</td>\n",
       "    </tr>\n",
       "  </tbody>\n",
       "</table>\n",
       "</div>"
      ],
      "text/plain": [
       "   Feature  Pearson_Correlation  Chi-2    RFE    EDA  Tree_Method  Lasso  \\\n",
       "1       91                 True   True   True   True         True   True   \n",
       "2       82                 True   True   True   True         True   True   \n",
       "3       80                 True   True   True   True         True   True   \n",
       "4       65                 True   True   True   True         True   True   \n",
       "5        4                 True   True   True   True         True   True   \n",
       "6       33                 True   True   True   True         True   True   \n",
       "7      258                 True   True   True   True         True   True   \n",
       "8      217                 True   True   True   True         True   True   \n",
       "9      199                 True   True   True   True         True   True   \n",
       "10     176                 True   True   True   True         True   True   \n",
       "11     134                 True   True   True   True         True   True   \n",
       "12     133                 True   True   True   True         True   True   \n",
       "13      13                 True   True   True   True         True   True   \n",
       "14     127                 True   True   True   True         True   True   \n",
       "15     117                 True   True   True   True         True   True   \n",
       "16     114                 True   True   True   True         True   True   \n",
       "17      98                 True   True   True  False         True   True   \n",
       "18      90                 True   True   True  False         True   True   \n",
       "19      73                 True   True   True  False         True   True   \n",
       "20      46                False   True   True   True         True   True   \n",
       "21      43                 True   True   True  False         True   True   \n",
       "22      30                 True   True   True  False         True   True   \n",
       "23     295                 True   True   True   True        False   True   \n",
       "24     292                False   True   True   True         True   True   \n",
       "25     244                 True   True   True  False         True   True   \n",
       "26      24                 True   True   True  False         True   True   \n",
       "27     230                 True   True   True  False         True   True   \n",
       "28     209                 True   True   True  False         True   True   \n",
       "29     201                 True   True   True  False         True   True   \n",
       "30     194                 True   True   True  False         True   True   \n",
       "31     189                 True   True   True  False         True   True   \n",
       "32     183                 True   True   True  False         True   True   \n",
       "33      17                 True   True   True  False         True   True   \n",
       "34     165                 True   True   True  False         True   True   \n",
       "35      16                 True   True   True  False         True   True   \n",
       "36     156                 True   True   True  False         True   True   \n",
       "37     150                 True   True   True  False         True   True   \n",
       "38      15                 True   True   True  False         True   True   \n",
       "39     148                 True   True   True  False         True   True   \n",
       "40     143                 True   True   True  False         True   True   \n",
       "41     129                 True   True   True  False         True   True   \n",
       "42     108                 True   True   True  False         True   True   \n",
       "43     101                 True   True   True  False         True   True   \n",
       "44       1                False   True   True   True         True   True   \n",
       "45      94                False   True   True  False         True   True   \n",
       "46      89                 True   True  False  False         True   True   \n",
       "47      70                False   True   True   True         True  False   \n",
       "48      63                 True   True  False  False         True   True   \n",
       "49      52                False   True   True  False         True   True   \n",
       "50      51                False  False   True   True         True   True   \n",
       "\n",
       "    Total  \n",
       "1       6  \n",
       "2       6  \n",
       "3       6  \n",
       "4       6  \n",
       "5       6  \n",
       "6       6  \n",
       "7       6  \n",
       "8       6  \n",
       "9       6  \n",
       "10      6  \n",
       "11      6  \n",
       "12      6  \n",
       "13      6  \n",
       "14      6  \n",
       "15      6  \n",
       "16      6  \n",
       "17      5  \n",
       "18      5  \n",
       "19      5  \n",
       "20      5  \n",
       "21      5  \n",
       "22      5  \n",
       "23      5  \n",
       "24      5  \n",
       "25      5  \n",
       "26      5  \n",
       "27      5  \n",
       "28      5  \n",
       "29      5  \n",
       "30      5  \n",
       "31      5  \n",
       "32      5  \n",
       "33      5  \n",
       "34      5  \n",
       "35      5  \n",
       "36      5  \n",
       "37      5  \n",
       "38      5  \n",
       "39      5  \n",
       "40      5  \n",
       "41      5  \n",
       "42      5  \n",
       "43      5  \n",
       "44      5  \n",
       "45      4  \n",
       "46      4  \n",
       "47      4  \n",
       "48      4  \n",
       "49      4  \n",
       "50      4  "
      ]
     },
     "execution_count": 51,
     "metadata": {},
     "output_type": "execute_result"
    }
   ],
   "source": [
    "all_features_df = pd.DataFrame({'Feature':all_features,'Pearson_Correlation':pearson_support,\n",
    "                              'RFE':rfe_support,'EDA':eda_support,'Tree_Method':support_tree,'Lasso':lasso_support})\n",
    "\n",
    "all_features_df['Total']=np.sum(all_features_df,axis=1)\n",
    "all_features_df = all_features_df.sort_values(['Total','Feature'] , ascending=False)\n",
    "all_features_df.index = range(1, len(all_features_df)+1)\n",
    "print('Displaying the top 50 features')\n",
    "all_features_df.head(50)"
   ]
  },
  {
   "cell_type": "markdown",
   "metadata": {},
   "source": [
    "So, let us take top10, top 20, top50 and top 70 features and then do hyperparamter tuning with each of them to see how our model is performing"
   ]
  },
  {
   "cell_type": "markdown",
   "metadata": {},
   "source": [
    "# Selecting the Top Features:"
   ]
  },
  {
   "cell_type": "code",
   "execution_count": 52,
   "metadata": {},
   "outputs": [
    {
     "name": "stdout",
     "output_type": "stream",
     "text": [
      "The top 10 features are\n",
      "['91', '82', '80', '65', '4', '33', '258', '217', '199', '176', '134']\n",
      "--------------------------------------------------\n",
      "The top 20 features are\n",
      "['91', '82', '80', '65', '4', '33', '258', '217', '199', '176', '134', '133', '13', '127', '117', '114', '98', '90', '73', '46', '43']\n",
      "--------------------------------------------------\n",
      "The top 50 features are\n",
      "['91', '82', '80', '65', '4', '33', '258', '217', '199', '176', '134', '133', '13', '127', '117', '114', '98', '90', '73', '46', '43', '30', '295', '292', '244', '24', '230', '209', '201', '194', '189', '183', '17', '165', '16', '156', '150', '15', '148', '143', '129', '108', '101', '1', '94', '89', '70', '63', '52', '51', '45']\n",
      "--------------------------------------------------\n",
      "The top 70 features are\n",
      "['91', '82', '80', '65', '4', '33', '258', '217', '199', '176', '134', '133', '13', '127', '117', '114', '98', '90', '73', '46', '43', '30', '295', '292', '244', '24', '230', '209', '201', '194', '189', '183', '17', '165', '16', '156', '150', '15', '148', '143', '129', '108', '101', '1', '94', '89', '70', '63', '52', '51', '45', '39', '298', '289', '285', '276', '272', '262', '259', '252', '247', '246', '239', '237', '229', '227', '226', '220', '198', '180', '168']\n",
      "--------------------------------------------------\n",
      "The top 100 features are\n",
      "['91', '82', '80', '65', '4', '33', '258', '217', '199', '176', '134', '133', '13', '127', '117', '114', '98', '90', '73', '46', '43', '30', '295', '292', '244', '24', '230', '209', '201', '194', '189', '183', '17', '165', '16', '156', '150', '15', '148', '143', '129', '108', '101', '1', '94', '89', '70', '63', '52', '51', '45', '39', '298', '289', '285', '276', '272', '262', '259', '252', '247', '246', '239', '237', '229', '227', '226', '220', '198', '180', '168', '164', '151', '145', '132', '111', '0', '97', '95', '9', '78', '69', '66', '50', '42', '299', '288', '287', '267', '26', '253', '241', '240', '228', '221', '215', '214', '192', '18', '179', '174']\n",
      "--------------------------------------------------\n"
     ]
    }
   ],
   "source": [
    "top_10_features = list(all_features_df[:11]['Feature'])\n",
    "print('The top 10 features are')\n",
    "print(top_10_features)\n",
    "print('-'*50)\n",
    "\n",
    "top_20_features = list(all_features_df[:21]['Feature'])\n",
    "print('The top 20 features are')\n",
    "print(top_20_features)\n",
    "print('-'*50)\n",
    "\n",
    "top_50_features = list(all_features_df[:51]['Feature'])\n",
    "print('The top 50 features are')\n",
    "print(top_50_features)\n",
    "print('-'*50)\n",
    "\n",
    "top_70_features = list(all_features_df[:71]['Feature'])\n",
    "print('The top 70 features are')\n",
    "print(top_70_features)\n",
    "print('-'*50)\n",
    "\n",
    "top_100_features = list(all_features_df[:101]['Feature'])\n",
    "print('The top 100 features are')\n",
    "print(top_100_features)\n",
    "print('-'*50)"
   ]
  },
  {
   "cell_type": "code",
   "execution_count": 53,
   "metadata": {},
   "outputs": [],
   "source": [
    "submission=pd.read_csv('submission.csv')"
   ]
  },
  {
   "cell_type": "markdown",
   "metadata": {},
   "source": [
    "# Hyperparameter Tuning of Selected Features One by One"
   ]
  },
  {
   "cell_type": "markdown",
   "metadata": {},
   "source": [
    "# KNN TOP 50 Features"
   ]
  },
  {
   "cell_type": "code",
   "execution_count": 54,
   "metadata": {},
   "outputs": [
    {
     "name": "stdout",
     "output_type": "stream",
     "text": [
      "Fitting 50 folds for each of 14 candidates, totalling 700 fits\n"
     ]
    },
    {
     "name": "stderr",
     "output_type": "stream",
     "text": [
      "[Parallel(n_jobs=-1)]: Using backend LokyBackend with 8 concurrent workers.\n",
      "[Parallel(n_jobs=-1)]: Done  34 tasks      | elapsed:    2.2s\n"
     ]
    },
    {
     "name": "stdout",
     "output_type": "stream",
     "text": [
      "Best Score:0.916892361111111\n",
      "Best Parameters: {'n_neighbors': 125}\n"
     ]
    },
    {
     "name": "stderr",
     "output_type": "stream",
     "text": [
      "[Parallel(n_jobs=-1)]: Done 700 out of 700 | elapsed:    3.6s finished\n"
     ]
    }
   ],
   "source": [
    "from sklearn.model_selection import RepeatedStratifiedKFold\n",
    "from sklearn.neighbors import KNeighborsClassifier\n",
    "\n",
    "parameters = {'n_neighbors':[1,3,10,30,75,80,85,90,100,120,125,130,135,150]}\n",
    "\n",
    "clf = KNeighborsClassifier()\n",
    "\n",
    "rkf = RepeatedStratifiedKFold(n_repeats=10,random_state=42)\n",
    "\n",
    "grid = GridSearchCV(estimator = clf, param_grid = parameters , scoring = 'roc_auc', verbose = 1, n_jobs = -1,cv=rkf)\n",
    "grid.fit(X_train_df[top_50_features],y_train)\n",
    "\n",
    "print(\"Best Score:\" + str(grid.best_score_))\n",
    "print(\"Best Parameters: \" + str(grid.best_params_))"
   ]
  },
  {
   "cell_type": "markdown",
   "metadata": {},
   "source": [
    "# Kaggle Score top 50 Features"
   ]
  },
  {
   "cell_type": "code",
   "execution_count": 56,
   "metadata": {},
   "outputs": [],
   "source": [
    "clf = KNeighborsClassifier(n_neighbors = 125)\n",
    "clf.fit(X_train_df[top_50_features],y_train)\n",
    "y_pred = clf.predict(X_train_df[top_50_features])\n",
    "train_auc_knn2=roc_auc_score(y_train,y_pred)\n",
    "submission['target'] = clf.predict_proba(X_test_df[top_50_features])[:,1]\n",
    "submission.to_csv('submission.csv', index=False)"
   ]
  },
  {
   "cell_type": "code",
   "execution_count": 57,
   "metadata": {},
   "outputs": [
    {
     "data": {
      "image/png": "[encoded data removed]",
      "text/plain": [
       "<IPython.core.display.Image object>"
      ]
     },
     "execution_count": 57,
     "metadata": {},
     "output_type": "execute_result"
    }
   ],
   "source": [
    "Image('subknn2.png')"
   ]
  },
  {
   "cell_type": "code",
   "execution_count": 58,
   "metadata": {},
   "outputs": [],
   "source": [
    "test_auc_knn2=0.776"
   ]
  },
  {
   "cell_type": "markdown",
   "metadata": {},
   "source": [
    "Hence, KNN performs bettwer with lesser features. Hence, not all the features are useful This also explains why L1 regulairzation was chosen while hyperparameter tuning for logisticregression"
   ]
  },
  {
   "cell_type": "markdown",
   "metadata": {},
   "source": [
    "# Hyperparameter Tuning for LogisticRegression"
   ]
  },
  {
   "cell_type": "markdown",
   "metadata": {},
   "source": [
    "# Logistic Regression Top 10 Features"
   ]
  },
  {
   "cell_type": "code",
   "execution_count": 59,
   "metadata": {},
   "outputs": [
    {
     "name": "stdout",
     "output_type": "stream",
     "text": [
      "Fitting 50 folds for each of 20 candidates, totalling 1000 fits\n"
     ]
    },
    {
     "name": "stderr",
     "output_type": "stream",
     "text": [
      "[Parallel(n_jobs=-1)]: Using backend LokyBackend with 8 concurrent workers.\n",
      "[Parallel(n_jobs=-1)]: Done  56 tasks      | elapsed:    0.2s\n"
     ]
    },
    {
     "name": "stdout",
     "output_type": "stream",
     "text": [
      "Best Score:0.8489930555555556\n",
      "Best Parameters: {'C': 0.1, 'class_weight': 'balanced', 'penalty': 'l2', 'solver': 'liblinear'}\n"
     ]
    },
    {
     "name": "stderr",
     "output_type": "stream",
     "text": [
      "[Parallel(n_jobs=-1)]: Done 960 tasks      | elapsed:    1.7s\n",
      "[Parallel(n_jobs=-1)]: Done 1000 out of 1000 | elapsed:    1.8s finished\n"
     ]
    }
   ],
   "source": [
    "from sklearn.model_selection import RepeatedStratifiedKFold\n",
    "\n",
    "parameters = {'penalty':['l1', 'l2'], 'C':[0.001,0.01,0.1,1,10],'solver':['liblinear'],'class_weight':['balanced',None]}\n",
    "\n",
    "logreg = LogisticRegression()\n",
    "\n",
    "rkf = RepeatedStratifiedKFold(n_repeats=10,random_state=42)\n",
    "\n",
    "grid = GridSearchCV(estimator = logreg, param_grid = parameters , scoring = 'roc_auc', verbose = 1, n_jobs = -1,cv=rkf)\n",
    "grid.fit(X_train_df[top_10_features],y_train)\n",
    "\n",
    "print(\"Best Score:\" + str(grid.best_score_))\n",
    "print(\"Best Parameters: \" + str(grid.best_params_))"
   ]
  },
  {
   "cell_type": "markdown",
   "metadata": {},
   "source": [
    "# Kaggle Submission with top 10 Features Logistic Regression"
   ]
  },
  {
   "cell_type": "code",
   "execution_count": 60,
   "metadata": {},
   "outputs": [],
   "source": [
    "logreg = LogisticRegression(C= 0.01, class_weight='balanced', penalty= 'l2', solver= 'liblinear')\n",
    "logreg.fit(X_train_df[top_10_features],y_train)\n",
    "y_pred=logreg.predict(X_train_df[top_10_features])\n",
    "train_auc_lr2=roc_auc_score(y_train,y_pred)\n",
    "submission['target'] = logreg.predict_proba(X_test_df[top_10_features])[:,1]\n",
    "submission.to_csv('submission.csv', index=False)"
   ]
  },
  {
   "cell_type": "markdown",
   "metadata": {},
   "source": [
    "Kaggle Score = 0.791"
   ]
  },
  {
   "cell_type": "code",
   "execution_count": 61,
   "metadata": {},
   "outputs": [],
   "source": [
    "test_auc_lr2=0.791"
   ]
  },
  {
   "cell_type": "markdown",
   "metadata": {},
   "source": [
    "# Logistic Regression Top 50 Features"
   ]
  },
  {
   "cell_type": "code",
   "execution_count": 62,
   "metadata": {},
   "outputs": [
    {
     "name": "stdout",
     "output_type": "stream",
     "text": [
      "Fitting 50 folds for each of 24 candidates, totalling 1200 fits\n"
     ]
    },
    {
     "name": "stderr",
     "output_type": "stream",
     "text": [
      "[Parallel(n_jobs=-1)]: Using backend LokyBackend with 8 concurrent workers.\n",
      "[Parallel(n_jobs=-1)]: Done  56 tasks      | elapsed:    0.2s\n"
     ]
    },
    {
     "name": "stdout",
     "output_type": "stream",
     "text": [
      "Best Score:0.9311111111111111\n",
      "Best Parameters: {'C': 0.001, 'class_weight': 'balanced', 'penalty': 'l2', 'solver': 'liblinear'}\n"
     ]
    },
    {
     "name": "stderr",
     "output_type": "stream",
     "text": [
      "[Parallel(n_jobs=-1)]: Done 1200 out of 1200 | elapsed:    2.2s finished\n"
     ]
    }
   ],
   "source": [
    "from sklearn.model_selection import RepeatedStratifiedKFold\n",
    "\n",
    "parameters = {'penalty':['l1', 'l2'], 'C':[0.0001,0.001,0.01,0.1,1,10],'solver':['liblinear'],'class_weight':['balanced',None]}\n",
    "\n",
    "logreg = LogisticRegression()\n",
    "\n",
    "rkf = RepeatedStratifiedKFold(n_repeats=10,random_state=42)\n",
    "\n",
    "grid = GridSearchCV(estimator = logreg, param_grid = parameters , scoring = 'roc_auc', verbose = 1, n_jobs = -1,cv=rkf)\n",
    "grid.fit(X_train_df[top_50_features],y_train)\n",
    "\n",
    "print(\"Best Score:\" + str(grid.best_score_))\n",
    "print(\"Best Parameters: \" + str(grid.best_params_))"
   ]
  },
  {
   "cell_type": "markdown",
   "metadata": {},
   "source": [
    "# Kaggle Submission with top 50 Features"
   ]
  },
  {
   "cell_type": "code",
   "execution_count": 64,
   "metadata": {},
   "outputs": [],
   "source": [
    "logreg = LogisticRegression(C= 0.01, class_weight='balanced', penalty= 'l2', solver= 'liblinear')\n",
    "logreg.fit(X_train_df[top_50_features],y_train)\n",
    "y_pred=logreg.predict(X_train_df[top_50_features])\n",
    "train_auc_lr3=roc_auc_score(y_train,y_pred)\n",
    "submission['target'] = logreg.predict_proba(X_test_df[top_50_features])[:,1]\n",
    "submission.to_csv('submission.csv', index=False)"
   ]
  },
  {
   "cell_type": "code",
   "execution_count": 96,
   "metadata": {},
   "outputs": [
    {
     "data": {
      "image/png": "[encoded data removed]",
      "text/plain": [
       "<IPython.core.display.Image object>"
      ]
     },
     "execution_count": 96,
     "metadata": {},
     "output_type": "execute_result"
    }
   ],
   "source": [
    "Image('sub2.png')"
   ]
  },
  {
   "cell_type": "code",
   "execution_count": 65,
   "metadata": {},
   "outputs": [],
   "source": [
    "test_auc_lr3=0.789"
   ]
  },
  {
   "cell_type": "markdown",
   "metadata": {},
   "source": [
    "# Logistic Regression TOP 70 Features"
   ]
  },
  {
   "cell_type": "code",
   "execution_count": 97,
   "metadata": {},
   "outputs": [
    {
     "name": "stdout",
     "output_type": "stream",
     "text": [
      "Fitting 50 folds for each of 20 candidates, totalling 1000 fits\n"
     ]
    },
    {
     "name": "stderr",
     "output_type": "stream",
     "text": [
      "[Parallel(n_jobs=-1)]: Using backend LokyBackend with 8 concurrent workers.\n",
      "[Parallel(n_jobs=-1)]: Done  56 tasks      | elapsed:    0.3s\n"
     ]
    },
    {
     "name": "stdout",
     "output_type": "stream",
     "text": [
      "Best Score:0.9440277777777776\n",
      "Best Parameters: {'C': 0.01, 'class_weight': 'balanced', 'penalty': 'l2', 'solver': 'liblinear'}\n"
     ]
    },
    {
     "name": "stderr",
     "output_type": "stream",
     "text": [
      "[Parallel(n_jobs=-1)]: Done 976 tasks      | elapsed:    2.2s\n",
      "[Parallel(n_jobs=-1)]: Done 1000 out of 1000 | elapsed:    2.2s finished\n"
     ]
    }
   ],
   "source": [
    "from sklearn.model_selection import RepeatedStratifiedKFold\n",
    "\n",
    "parameters = {'penalty':['l1', 'l2'], 'C':[0.001,0.01,0.1,1,10],'solver':['liblinear'],'class_weight':['balanced',None]}\n",
    "\n",
    "logreg = LogisticRegression()\n",
    "\n",
    "rkf = RepeatedStratifiedKFold(n_repeats=10,random_state=42)\n",
    "\n",
    "grid = GridSearchCV(estimator = logreg, param_grid = parameters , scoring = 'roc_auc', verbose = 1, n_jobs = -1,cv=rkf)\n",
    "grid.fit(X_train_df[top_70_features],y_train)\n",
    "\n",
    "print(\"Best Score:\" + str(grid.best_score_))\n",
    "print(\"Best Parameters: \" + str(grid.best_params_))"
   ]
  },
  {
   "cell_type": "markdown",
   "metadata": {},
   "source": [
    "# Kaggle Score with Top 70 features"
   ]
  },
  {
   "cell_type": "code",
   "execution_count": 98,
   "metadata": {},
   "outputs": [],
   "source": [
    "logreg = LogisticRegression(C= 0.01, class_weight='balanced', penalty= 'l2', solver= 'liblinear')\n",
    "logreg.fit(X_train_df[top_70_features],y_train)\n",
    "submission['target'] = logreg.predict_proba(X_test_df[top_70_features])[:,1]\n",
    "submission.to_csv('submission.csv', index=False)"
   ]
  },
  {
   "cell_type": "code",
   "execution_count": 104,
   "metadata": {},
   "outputs": [
    {
     "data": {
      "image/png": "[encoded data removed]",
      "text/plain": [
       "<IPython.core.display.Image object>"
      ]
     },
     "execution_count": 104,
     "metadata": {},
     "output_type": "execute_result"
    }
   ],
   "source": [
    "KaggleScore = 0.773\n",
    "Image('sub3.png')"
   ]
  },
  {
   "cell_type": "markdown",
   "metadata": {},
   "source": [
    "# Logistic Regression Top 100 Features"
   ]
  },
  {
   "cell_type": "code",
   "execution_count": 67,
   "metadata": {},
   "outputs": [
    {
     "name": "stdout",
     "output_type": "stream",
     "text": [
      "Fitting 50 folds for each of 32 candidates, totalling 1600 fits\n"
     ]
    },
    {
     "name": "stderr",
     "output_type": "stream",
     "text": [
      "[Parallel(n_jobs=-1)]: Using backend LokyBackend with 8 concurrent workers.\n",
      "[Parallel(n_jobs=-1)]: Done  56 tasks      | elapsed:    0.3s\n",
      "[Parallel(n_jobs=-1)]: Done 1200 tasks      | elapsed:    3.4s\n"
     ]
    },
    {
     "name": "stdout",
     "output_type": "stream",
     "text": [
      "Best Score:0.958923611111111\n",
      "Best Parameters: {'C': 0.1, 'class_weight': 'balanced', 'penalty': 'l2', 'solver': 'liblinear'}\n"
     ]
    },
    {
     "name": "stderr",
     "output_type": "stream",
     "text": [
      "[Parallel(n_jobs=-1)]: Done 1600 out of 1600 | elapsed:    4.6s finished\n"
     ]
    }
   ],
   "source": [
    "from sklearn.model_selection import RepeatedStratifiedKFold\n",
    "\n",
    "parameters = {'penalty':['l1', 'l2'], 'C':[0.001,0.01,0.1,1,10,20,50,100],'solver':['liblinear'],'class_weight':['balanced',None]}\n",
    "\n",
    "logreg = LogisticRegression()\n",
    "\n",
    "rkf = RepeatedStratifiedKFold(n_repeats=10,random_state=42)\n",
    "\n",
    "grid = GridSearchCV(estimator = logreg, param_grid = parameters , scoring = 'roc_auc', verbose = 1, n_jobs = -1,cv=rkf)\n",
    "grid.fit(X_train_df[top_100_features],y_train)\n",
    "\n",
    "print(\"Best Score:\" + str(grid.best_score_))\n",
    "print(\"Best Parameters: \" + str(grid.best_params_))"
   ]
  },
  {
   "cell_type": "markdown",
   "metadata": {},
   "source": [
    "# Kaggle Score Top 100 Features"
   ]
  },
  {
   "cell_type": "code",
   "execution_count": 68,
   "metadata": {},
   "outputs": [],
   "source": [
    "logreg = LogisticRegression(C= 0.1, class_weight='balanced', penalty= 'l2', solver= 'liblinear')\n",
    "logreg.fit(X_train_df[top_100_features],y_train)\n",
    "y_pred = logreg.predict(X_train_df[top_100_features])\n",
    "train_auc_lr4=roc_auc_score(y_train,y_pred)\n",
    "submission['target'] = logreg.predict_proba(X_test_df[top_100_features])[:,1]\n",
    "submission.to_csv('submission.csv', index=False)"
   ]
  },
  {
   "cell_type": "code",
   "execution_count": 105,
   "metadata": {},
   "outputs": [
    {
     "data": {
      "image/png": "[encoded data removed]",
      "text/plain": [
       "<IPython.core.display.Image object>"
      ]
     },
     "execution_count": 105,
     "metadata": {},
     "output_type": "execute_result"
    }
   ],
   "source": [
    "KaggleScore = 0.508\n",
    "Image('sub4.png')"
   ]
  },
  {
   "cell_type": "code",
   "execution_count": 69,
   "metadata": {},
   "outputs": [],
   "source": [
    "test_auc_lr4=0.770"
   ]
  },
  {
   "cell_type": "markdown",
   "metadata": {},
   "source": [
    "Even after feature selction our LogisticRegression performs better with all the features with L1 regulairzation and we get 84.4% accuracy which is pretty good."
   ]
  },
  {
   "cell_type": "markdown",
   "metadata": {},
   "source": [
    "# Observation:"
   ]
  },
  {
   "cell_type": "markdown",
   "metadata": {},
   "source": [
    "After all the above finding we can conclude that our model performs best with Logisitci Regression as it is a simply model that best separtes two classes. Also, regularization helped in removig the overfitting."
   ]
  },
  {
   "cell_type": "markdown",
   "metadata": {},
   "source": [
    "Hence, the best suited model for our dataset is Logisticregression with L1 regularization. This implies we could also use Lasso regression for the same. This model gives 84.4 % auc score with a simple parameter tuning. Hence, it is the best model to avoid overfitting in such scenarios."
   ]
  },
  {
   "cell_type": "code",
   "execution_count": 2,
   "metadata": {},
   "outputs": [
    {
     "name": "stdout",
     "output_type": "stream",
     "text": [
      "Collecting prettytable\n",
      "  Downloading prettytable-0.7.2.tar.bz2 (21 kB)\n",
      "Building wheels for collected packages: prettytable\n",
      "  Building wheel for prettytable (setup.py): started\n",
      "  Building wheel for prettytable (setup.py): finished with status 'done'\n",
      "  Created wheel for prettytable: filename=prettytable-0.7.2-py3-none-any.whl size=13704 sha256=c449d488e80e75c2a3f7e1c5306eab7527bb8d0990501432b5be6e9300745ae0\n",
      "  Stored in directory: c:\\users\\mansi.choudhary\\appdata\\local\\pip\\cache\\wheels\\8c\\76\\0b\\eb9eb3da7e2335e3577e3f96a0ae9f74f206e26457bd1a2bc8\n",
      "Successfully built prettytable\n",
      "Installing collected packages: prettytable\n",
      "Successfully installed prettytable-0.7.2\n"
     ]
    }
   ],
   "source": [
    "!pip install prettytable"
   ]
  },
  {
   "cell_type": "code",
   "execution_count": 72,
   "metadata": {},
   "outputs": [
    {
     "name": "stdout",
     "output_type": "stream",
     "text": [
      "+---------------------+--------------------+--------------------+----------------+--------------------------------------+\n",
      "|   Classifier_Name   | Number_of_Features |  Train_Auc_Score   | Test_Auc_Score |               Summary                |\n",
      "+---------------------+--------------------+--------------------+----------------+--------------------------------------+\n",
      "|         KNN         |        300         | 0.5111111111111111 |     0.686      |   No overfitting but less acuurate   |\n",
      "| Logistic Regression |        300         | 0.8951388888888888 |     0.844      |   Works well and gives good result   |\n",
      "|         KNN         |         50         | 0.5166666666666666 |     0.776      | Performing better with less features |\n",
      "| Logistic Regression |         10         | 0.7989583333333333 |     0.791      |   Performs same on train and test    |\n",
      "| Logistic Regression |         50         |      0.921875      |     0.789      |         Slightly overfitting         |\n",
      "| Logistic Regression |        100         |      0.990625      |      0.77      |            Badly Overfits            |\n",
      "+---------------------+--------------------+--------------------+----------------+--------------------------------------+\n"
     ]
    }
   ],
   "source": [
    "import prettytable\n",
    "import math\n",
    "\n",
    "x=prettytable.PrettyTable()\n",
    "\n",
    "\n",
    "x.field_names = [\"Classifier_Name\", \"Number_of_Features\", \"Train_Auc_Score\", \"Test_Auc_Score\",'Summary']\n",
    "\n",
    "x.add_row([\"KNN\", 300, train_auc_knn1, test_auc_knn1,\"No overfitting but less acuurate\"])\n",
    "x.add_row([\"Logistic Regression\", 300, train_auc_lr, test_auc_lr,\"Works well and gives good result\"])\n",
    "x.add_row([\"KNN\", 50, train_auc_knn2, test_auc_knn2,\"Performing better with less features\"])\n",
    "x.add_row([\"Logistic Regression\", 10, train_auc_lr2, test_auc_lr2,\"Performs same on train and test\"])\n",
    "x.add_row([\"Logistic Regression\", 50, train_auc_lr3, test_auc_lr3,\"Slightly overfitting\"])\n",
    "x.add_row([\"Logistic Regression\", 100, train_auc_lr4,test_auc_lr4,\"Badly Overfits\"])\n",
    "\n",
    "\n",
    "print(x)"
   ]
  },
  {
   "cell_type": "code",
   "execution_count": null,
   "metadata": {},
   "outputs": [],
   "source": []
  }
 ],
 "metadata": {
  "kernelspec": {
   "display_name": "Python 3",
   "language": "python",
   "name": "python3"
  },
  "language_info": {
   "codemirror_mode": {
    "name": "ipython",
    "version": 3
   },
   "file_extension": ".py",
   "mimetype": "text/x-python",
   "name": "python",
   "nbconvert_exporter": "python",
   "pygments_lexer": "ipython3",
   "version": "3.7.6"
  }
 },
 "nbformat": 4,
 "nbformat_minor": 4
}
